{
 "cells": [
  {
   "cell_type": "markdown",
   "metadata": {},
   "source": [
    "## Import Libraries"
   ]
  },
  {
   "cell_type": "code",
   "execution_count": 5,
   "metadata": {},
   "outputs": [],
   "source": [
    "prop='AiT'"
   ]
  },
  {
   "cell_type": "code",
   "execution_count": 6,
   "metadata": {},
   "outputs": [
    {
     "name": "stdout",
     "output_type": "stream",
     "text": [
      "The AiT dataset has 570 data points with 425 features each.\n"
     ]
    }
   ],
   "source": [
    "import numpy as np\n",
    "import pandas as pd\n",
    "from IPython.display import display \n",
    "import keras\n",
    "import matplotlib.pyplot as plt\n",
    "import numpy as np\n",
    "\n",
    "\n",
    "%matplotlib inline\n",
    "data= pd.read_excel(prop+'_gc.xlsx')\n",
    "#Print features\n",
    "print(\"The \"+prop+\" dataset has {} data points with {} features each.\".format(*data.shape))"
   ]
  },
  {
   "cell_type": "markdown",
   "metadata": {},
   "source": [
    "## Data Exploration\n",
    "In this section, you will begin exploring the data and explain variables."
   ]
  },
  {
   "cell_type": "code",
   "execution_count": 7,
   "metadata": {
    "scrolled": true
   },
   "outputs": [
    {
     "name": "stdout",
     "output_type": "stream",
     "text": [
      "Now the AiT  dataset has 570 data points with 425 features each.\n",
      "               AiT           1           2           3           4  \\\n",
      "count   570.000000  570.000000  570.000000  570.000000  570.000000   \n",
      "mean    643.649333    1.298246    2.657895    0.194737    0.043860   \n",
      "std     129.874675    1.262754    4.947579    0.505478    0.221449   \n",
      "min       6.500000    0.000000    0.000000    0.000000    0.000000   \n",
      "25%     543.862500    0.000000    0.000000    0.000000    0.000000   \n",
      "50%     647.040000    1.000000    1.000000    0.000000    0.000000   \n",
      "75%     728.150000    2.000000    3.000000    0.000000    0.000000   \n",
      "max    1283.150000    6.000000   34.000000    3.000000    2.000000   \n",
      "\n",
      "                5           6           7           8           9  ...    415  \\\n",
      "count  570.000000  570.000000  570.000000  570.000000  570.000000  ...  570.0   \n",
      "mean     0.082456    0.033333    0.028070    0.007018    0.003509  ...    0.0   \n",
      "std      0.293828    0.206939    0.165318    0.083550    0.059183  ...    0.0   \n",
      "min      0.000000    0.000000    0.000000    0.000000    0.000000  ...    0.0   \n",
      "25%      0.000000    0.000000    0.000000    0.000000    0.000000  ...    0.0   \n",
      "50%      0.000000    0.000000    0.000000    0.000000    0.000000  ...    0.0   \n",
      "75%      0.000000    0.000000    0.000000    0.000000    0.000000  ...    0.0   \n",
      "max      2.000000    3.000000    1.000000    1.000000    1.000000  ...    0.0   \n",
      "\n",
      "         416    417    418    419    420    421    422    423    424  \n",
      "count  570.0  570.0  570.0  570.0  570.0  570.0  570.0  570.0  570.0  \n",
      "mean     0.0    0.0    0.0    0.0    0.0    0.0    0.0    0.0    0.0  \n",
      "std      0.0    0.0    0.0    0.0    0.0    0.0    0.0    0.0    0.0  \n",
      "min      0.0    0.0    0.0    0.0    0.0    0.0    0.0    0.0    0.0  \n",
      "25%      0.0    0.0    0.0    0.0    0.0    0.0    0.0    0.0    0.0  \n",
      "50%      0.0    0.0    0.0    0.0    0.0    0.0    0.0    0.0    0.0  \n",
      "75%      0.0    0.0    0.0    0.0    0.0    0.0    0.0    0.0    0.0  \n",
      "max      0.0    0.0    0.0    0.0    0.0    0.0    0.0    0.0    0.0  \n",
      "\n",
      "[8 rows x 425 columns]\n"
     ]
    }
   ],
   "source": [
    "def clean_dataset(df):\n",
    "    assert isinstance(df, pd.DataFrame), \"df needs to be a pd.DataFrame\"\n",
    "    df.dropna(inplace=True)\n",
    "    indices_to_keep = ~df.isin([np.nan, np.inf, -np.inf]).any(1)\n",
    "    return df[indices_to_keep].astype(np.float64)\n",
    "clean_dataset(data)\n",
    "data.drop(data.columns[data.eq(0).all()], axis=1)\n",
    "print(\"Now the \"+prop+\"  dataset has {} data points with {} features each.\".format(*data.shape))\n",
    "print(data.describe())"
   ]
  },
  {
   "cell_type": "markdown",
   "metadata": {},
   "source": [
    "## Visualize Frequency"
   ]
  },
  {
   "cell_type": "code",
   "execution_count": 8,
   "metadata": {
    "scrolled": true
   },
   "outputs": [
    {
     "data": {
      "image/png": "[encoded data removed]",
      "text/plain": [
       "<Figure size 432x288 with 1 Axes>"
      ]
     },
     "metadata": {
      "needs_background": "light"
     },
     "output_type": "display_data"
    }
   ],
   "source": [
    "import matplotlib.pyplot as plt\n",
    "import numpy as np\n",
    "import numpy as np\n",
    "import matplotlib.mlab as mlab\n",
    "import matplotlib.pyplot as plt\n",
    "\n",
    "x = data[prop].values.tolist()\n",
    "num_bins = 50\n",
    "n, bins, patches = plt.hist(x, num_bins, facecolor='blue', alpha=0.5)\n",
    "plt.show()"
   ]
  },
  {
   "cell_type": "markdown",
   "metadata": {},
   "source": [
    "## Split Data"
   ]
  },
  {
   "cell_type": "code",
   "execution_count": 9,
   "metadata": {
    "scrolled": false
   },
   "outputs": [
    {
     "name": "stdout",
     "output_type": "stream",
     "text": [
      "Training and testing split was successful\n"
     ]
    }
   ],
   "source": [
    "from sklearn.model_selection import train_test_split\n",
    "from sklearn.model_selection import StratifiedKFold\n",
    "target = data[prop]\n",
    "features = data.drop(prop, axis = 1)\n",
    "X_train1, X_test, y_train1, y_test = train_test_split(features, target,random_state=19, test_size=0.05)\n",
    "X_train, X_val, y_train, y_val = train_test_split(X_train1, y_train1,random_state=19, test_size=0.05)\n",
    "print('Training and testing split was successful')"
   ]
  },
  {
   "cell_type": "code",
   "execution_count": 11,
   "metadata": {
    "scrolled": false
   },
   "outputs": [
    {
     "name": "stderr",
     "output_type": "stream",
     "text": [
      "C:\\Users\\asa279\\AppData\\Local\\Continuum\\anaconda3\\lib\\site-packages\\ipykernel_launcher.py:52: SettingWithCopyWarning: \n",
      "A value is trying to be set on a copy of a slice from a DataFrame\n",
      "\n",
      "See the caveats in the documentation: https://pandas.pydata.org/pandas-docs/stable/user_guide/indexing.html#returning-a-view-versus-a-copy\n",
      "C:\\Users\\asa279\\AppData\\Local\\Continuum\\anaconda3\\lib\\site-packages\\ipykernel_launcher.py:59: SettingWithCopyWarning: \n",
      "A value is trying to be set on a copy of a slice from a DataFrame\n",
      "\n",
      "See the caveats in the documentation: https://pandas.pydata.org/pandas-docs/stable/user_guide/indexing.html#returning-a-view-versus-a-copy\n"
     ]
    },
    {
     "name": "stdout",
     "output_type": "stream",
     "text": [
      "Overall Error\n",
      "count     570.000000\n",
      "unique    556.000000\n",
      "top         0.000003\n",
      "freq        3.000000\n",
      "Name: error, dtype: float64\n",
      "Validation Error\n",
      "count     28.000000\n",
      "unique    28.000000\n",
      "top        0.000001\n",
      "freq       1.000000\n",
      "Name: error, dtype: float64\n",
      "Overall Error"
     ]
    },
    {
     "name": "stderr",
     "output_type": "stream",
     "text": [
      "C:\\Users\\asa279\\AppData\\Local\\Continuum\\anaconda3\\lib\\site-packages\\ipykernel_launcher.py:87: SettingWithCopyWarning: \n",
      "A value is trying to be set on a copy of a slice from a DataFrame\n",
      "\n",
      "See the caveats in the documentation: https://pandas.pydata.org/pandas-docs/stable/user_guide/indexing.html#returning-a-view-versus-a-copy\n"
     ]
    },
    {
     "name": "stdout",
     "output_type": "stream",
     "text": [
      "\n",
      "count     570.000000\n",
      "unique    556.000000\n",
      "top         0.000003\n",
      "freq        3.000000\n",
      "Name: error, dtype: float64\n",
      "4.1186653786081515e-06\n",
      "616.8546090606205\n"
     ]
    },
    {
     "data": {
      "image/png": "[encoded data removed]",
      "text/plain": [
       "<Figure size 432x288 with 1 Axes>"
      ]
     },
     "metadata": {
      "needs_background": "light"
     },
     "output_type": "display_data"
    },
    {
     "data": {
      "image/png": "[encoded data removed]",
      "text/plain": [
       "<Figure size 432x288 with 1 Axes>"
      ]
     },
     "metadata": {
      "needs_background": "light"
     },
     "output_type": "display_data"
    },
    {
     "name": "stderr",
     "output_type": "stream",
     "text": [
      "C:\\Users\\asa279\\AppData\\Local\\Continuum\\anaconda3\\lib\\site-packages\\ipykernel_launcher.py:138: SettingWithCopyWarning: \n",
      "A value is trying to be set on a copy of a slice from a DataFrame\n",
      "\n",
      "See the caveats in the documentation: https://pandas.pydata.org/pandas-docs/stable/user_guide/indexing.html#returning-a-view-versus-a-copy\n"
     ]
    },
    {
     "name": "stdout",
     "output_type": "stream",
     "text": [
      "alldone\n"
     ]
    },
    {
     "data": {
      "image/png": "[encoded data removed]",
      "text/plain": [
       "<Figure size 432x288 with 1 Axes>"
      ]
     },
     "metadata": {
      "needs_background": "light"
     },
     "output_type": "display_data"
    }
   ],
   "source": [
    "from sklearn.model_selection import *\n",
    "from sklearn.ensemble import *\n",
    "from sklearn.gaussian_process import *\n",
    "from sklearn.model_selection import ShuffleSplit\n",
    "# cv1=ShuffleSplit(n_splits=20)\n",
    "\n",
    "# param_grid = { 'kernel':[kernels.RBF(length_scale=0.05),\n",
    "#                          kernels.RBF(length_scale=0.1),\n",
    "#                          kernels.RBF(length_scale=0.5),\n",
    "#                          kernels.RBF(length_scale=1),\n",
    "#                          kernels.RBF(length_scale=2),\n",
    "#                          kernels.RBF(length_scale=5),\n",
    "#                          kernels.RBF(length_scale=10),\n",
    "#                          kernels.RBF(length_scale=0.05)+kernels.RBF(length_scale=0.1),\n",
    "#                          kernels.RBF(length_scale=0.5)+kernels.RBF(length_scale=1)+kernels.RBF(length_scale=2)+kernels.RBF(length_scale=5)],\n",
    "#               'alpha':[1e-10,1e-5],\n",
    "#               'n_restarts_optimizer':[20],\n",
    "#               'random_state':[19]}\n",
    "# res_GPR = GridSearchCV(estimator=GaussianProcessRegressor( normalize_y=True), param_grid=param_grid, cv=cv1, verbose=10, n_jobs=-1, scoring = 'neg_mean_squared_error', return_train_score=True)\n",
    "# res_GPR.fit(X_train1, y_train1)\n",
    "# print('Mean Validation score: {}'.format(res_GPR.cv_results_['mean_test_score']))\n",
    "# print('Mean training score: {}'.format(res_GPR.cv_results_['mean_train_score']))\n",
    "# print(res_GPR.best_estimator_)\n",
    "# print(res_GPR.best_score_)\n",
    "\n",
    "\n",
    "import pickle\n",
    "filename = 'GP_model.sav'\n",
    "pickle.dump(res_GPR.best_estimator_, open(filename, 'wb'))\n",
    "dataa= pd.read_excel('surfactants.xlsx')\n",
    "dataa.head()\n",
    "dataa=dataa.drop(['Smiles'], axis=1)\n",
    "y_pred, std = res_GPR.best_estimator_.predict(dataa.values, return_std=True)\n",
    "dataset = pd.DataFrame({'pred': y_pred, 'stdev': std}, columns=['pred', 'stdev'])\n",
    "dataset.to_csv('surfact_res.csv', sep=',', encoding='utf-8')\n",
    "\n",
    "y_preda, stda = res_GPR.best_estimator_.predict(features, return_std=True)\n",
    "y_pred, std = res_GPR.best_estimator_.predict(X_val, return_std=True)\n",
    "dataset = pd.DataFrame({'target': target, 'pred': y_preda, 'stdev': stda}, columns=['target','pred', 'stdev'])\n",
    "dataset1 = pd.DataFrame({'target': y_val, 'pred': y_pred, 'stdev': std}, columns=['target','pred', 'stdev'])\n",
    "dataset.to_csv('results_RBF.csv', sep=',', encoding='utf-8')\n",
    "dataset1.to_csv('valresults_RBF.csv', sep=',', encoding='utf-8')\n",
    "\n",
    "aresults= pd.read_csv('results_RBF.csv')\n",
    "vresults= pd.read_csv('valresults_RBF.csv')\n",
    "ma=len(aresults['target'].tolist())\n",
    "mv=len(vresults['target'].tolist())\n",
    "aresults['error']=\"\"\n",
    "vresults['error']=\"\"\n",
    "for i in range(0,ma):\n",
    "    if aresults['target'][i]>0.1 or aresults['target'][i] < -0.1:\n",
    "        aresults['error'][i]=abs((abs(aresults['target'][i]-aresults['pred'][i]))/(np.std(data[prop])))\n",
    "    else:\n",
    "        aresults['error'][i]=abs((abs(aresults['target'][i]-aresults['pred'][i]))/(aresults['target'][i]))\n",
    "        \n",
    "        \n",
    "for i in range(0,mv):\n",
    "    if vresults['target'][i]>0.1 or vresults['target'][i] < -0.1:\n",
    "        vresults['error'][i]=abs((abs(vresults['target'][i]-vresults['pred'][i]))/(np.std(data[prop])))\n",
    "    else:\n",
    "        vresults['error'][i]=abs((abs(vresults['target'][i]-vresults['pred'][i]))/(vresults['target'][i]))\n",
    "        \n",
    "print('Overall Error')\n",
    "print(aresults['error'].describe())\n",
    "print('Validation Error')\n",
    "print(vresults['error'].describe())\n",
    "\n",
    "fnamea=str(str(prop)+\"nlinALL.text\")\n",
    "print(\"The percentage of data below 1% of error is {:.2f}%\".format(100*len(aresults[aresults['error'] < 0.01])/len(aresults['target'])),file=open(fnamea,\"a\"))\n",
    "print(\"The percentage of data below 5% of error is {:.2f}%\".format(100*len(aresults[aresults['error'] < 0.05])/len(aresults['target'])),file=open(fnamea,\"a\"))\n",
    "print(\"The percentage of data below 10% of error is {:.2f}%\".format(100*len(aresults[aresults['error'] < 0.1])/len(aresults['target'])),file=open(fnamea,\"a\"))\n",
    "print(\"The percentage of data below 20% of error is {:.2f}%\".format(100*len(aresults[aresults['error'] < 0.2])/len(aresults['target'])), file=open(fnamea,\"a\"))\n",
    "\n",
    "\n",
    "fnamev=str(str(prop)+'nlinv.text')\n",
    "print(\"The percentage of data below 1% of error is {:.2f}%\".format(100*len(vresults[vresults['error'] < 0.01])/len(vresults['target'])),file=open(fnamev,\"a\"))\n",
    "print(\"The percentage of data below 5% of error is {:.2f}%\".format(100*len(vresults[vresults['error'] < 0.05])/len(vresults['target'])),file=open(fnamev,\"a\"))\n",
    "print(\"The percentage of data below 10% of error is {:.2f}%\".format(100*len(vresults[vresults['error'] < 0.1])/len(vresults['target'])),file=open(fnamev,\"a\"))\n",
    "print(\"The percentage of data below 20% of error is {:.2f}%\".format(100*len(vresults[vresults['error'] < 0.2])/len(vresults['target'])), file=open(fnamev,\"a\"))\n",
    "\n",
    "import numpy as np\n",
    "aresults= pd.read_csv('results_RBF.csv')\n",
    "ma=len(aresults['target'].tolist())\n",
    "aresults['error']=\"\"\n",
    "for i in range(0,ma):\n",
    "    if aresults['target'][i]>0.1 or aresults['target'][i] < -0.1:\n",
    "        aresults['error'][i]=abs((abs(aresults['target'][i]-aresults['pred'][i]))/(np.std(data[prop])))\n",
    "    else:\n",
    "        aresults['error'][i]=abs((abs(aresults['target'][i]-aresults['pred'][i]))/(aresults['target'][i]))\n",
    "        \n",
    "        \n",
    "\n",
    "print('Overall Error')\n",
    "print(aresults['error'].describe())\n",
    "\n",
    "print(aresults['error'].median())\n",
    "from sklearn.metrics import mean_squared_error\n",
    "MSE = mean_squared_error(aresults['target'].values, aresults['pred'].values)\n",
    "print(MSE)\n",
    "import numpy as np\n",
    "import matplotlib.pyplot as plt\n",
    "\n",
    "aresultss=aresults.sort_values('error')\n",
    "# Create data\n",
    "x = np.arange(1, len(aresultss['error'].to_numpy())+1, 1)\n",
    "y = aresultss['error'].to_numpy()*100\n",
    "# Plot\n",
    "plt.scatter(x, y, color='tab:blue',alpha=0.2)\n",
    "plt.axhline(y=10, color='r', linestyle='--')\n",
    "plt.title('Relative Error vs. Number of Molecules')\n",
    "plt.xlabel('Count')\n",
    "plt.ylabel('Error %')\n",
    "plt.text(5, 12, '10% error', fontsize=12, color='red')\n",
    "plt.ylim(-5, 100)\n",
    "plt.xlim(0, len(aresults['target'].values))\n",
    "plt.savefig(prop+'nlcurve.png',dpi=1200)\n",
    "plt.tight_layout()\n",
    "plt.show()\n",
    "import numpy as np\n",
    "import matplotlib.pyplot as plt\n",
    "\n",
    "# Create data\n",
    "x = aresults['target'].values.tolist()\n",
    "y = aresultss['error'].to_numpy()*100\n",
    "# Plot\n",
    "plt.scatter(x, y, alpha=0.3)\n",
    "plt.xlabel('Value')\n",
    "plt.ylabel('Error %')\n",
    "plt.ylim(-5, 100)\n",
    "plt.savefig('outlies.png',dpi=250)\n",
    "plt.show()\n",
    "\n",
    "aresults= pd.read_csv('results_RBF.csv')\n",
    "ma=len(aresults['target'].tolist())\n",
    "aresults['error']=\"\"\n",
    "for i in range(0,ma):\n",
    "    if aresults['target'][i]>0.1 or aresults['target'][i] < -0.1:\n",
    "        aresults['error'][i]=(aresults['target'][i]-aresults['pred'][i])/(np.std(data[prop]))\n",
    "    else:\n",
    "        aresults['error'][i]=(aresults['target'][i]-aresults['pred'][i])/(aresults['target'][i])\n",
    "        \n",
    "\n",
    "import seaborn as sns, numpy as np\n",
    "x = pd.Series(aresults['error']*100, name=\"Error %\")\n",
    "ax = sns.distplot(x,kde=True,hist=False)    \n",
    "plt.xlim(-100,100)\n",
    "plt.ylabel('Density')\n",
    "plt.savefig('dist.jpg',dpi=250)\n",
    "\n",
    "print('alldone')"
   ]
  },
  {
   "cell_type": "code",
   "execution_count": 8,
   "metadata": {},
   "outputs": [
    {
     "data": {
      "text/plain": [
       "{'k1': RBF(length_scale=4.22) + RBF(length_scale=16.1) + RBF(length_scale=16.1),\n",
       " 'k2': RBF(length_scale=34.8),\n",
       " 'k1__k1': RBF(length_scale=4.22) + RBF(length_scale=16.1),\n",
       " 'k1__k2': RBF(length_scale=16.1),\n",
       " 'k1__k1__k1': RBF(length_scale=4.22),\n",
       " 'k1__k1__k2': RBF(length_scale=16.1),\n",
       " 'k1__k1__k1__length_scale': 4.220234610901996,\n",
       " 'k1__k1__k1__length_scale_bounds': (1e-05, 100000.0),\n",
       " 'k1__k1__k2__length_scale': 16.0710778664141,\n",
       " 'k1__k1__k2__length_scale_bounds': (1e-05, 100000.0),\n",
       " 'k1__k2__length_scale': 16.072069062808787,\n",
       " 'k1__k2__length_scale_bounds': (1e-05, 100000.0),\n",
       " 'k2__length_scale': 34.80089959133984,\n",
       " 'k2__length_scale_bounds': (1e-05, 100000.0)}"
      ]
     },
     "execution_count": 8,
     "metadata": {},
     "output_type": "execute_result"
    }
   ],
   "source": [
    "res_GPR.best_estimator_.kernel_.get_params()"
   ]
  },
  {
   "cell_type": "code",
   "execution_count": 9,
   "metadata": {},
   "outputs": [
    {
     "ename": "NameError",
     "evalue": "name 'y_mean' is not defined",
     "output_type": "error",
     "traceback": [
      "\u001b[1;31m---------------------------------------------------------------------------\u001b[0m",
      "\u001b[1;31mNameError\u001b[0m                                 Traceback (most recent call last)",
      "\u001b[1;32m<ipython-input-9-c3246e0aa3d0>\u001b[0m in \u001b[0;36m<module>\u001b[1;34m\u001b[0m\n\u001b[1;32m----> 1\u001b[1;33m \u001b[0mprint\u001b[0m\u001b[1;33m(\u001b[0m\u001b[0my_mean\u001b[0m\u001b[1;33m)\u001b[0m\u001b[1;33m\u001b[0m\u001b[1;33m\u001b[0m\u001b[0m\n\u001b[0m",
      "\u001b[1;31mNameError\u001b[0m: name 'y_mean' is not defined"
     ]
    }
   ],
   "source": [
    "print(y_mean)"
   ]
  },
  {
   "cell_type": "code",
   "execution_count": 10,
   "metadata": {},
   "outputs": [
    {
     "data": {
      "text/html": [
       "<div>\n",
       "<style scoped>\n",
       "    .dataframe tbody tr th:only-of-type {\n",
       "        vertical-align: middle;\n",
       "    }\n",
       "\n",
       "    .dataframe tbody tr th {\n",
       "        vertical-align: top;\n",
       "    }\n",
       "\n",
       "    .dataframe thead th {\n",
       "        text-align: right;\n",
       "    }\n",
       "</style>\n",
       "<table border=\"1\" class=\"dataframe\">\n",
       "  <thead>\n",
       "    <tr style=\"text-align: right;\">\n",
       "      <th></th>\n",
       "      <th>target</th>\n",
       "      <th>pred</th>\n",
       "      <th>stdev</th>\n",
       "    </tr>\n",
       "  </thead>\n",
       "  <tbody>\n",
       "    <tr>\n",
       "      <th>count</th>\n",
       "      <td>1056.000000</td>\n",
       "      <td>1056.000000</td>\n",
       "      <td>1056.000000</td>\n",
       "    </tr>\n",
       "    <tr>\n",
       "      <th>mean</th>\n",
       "      <td>0.144554</td>\n",
       "      <td>0.144482</td>\n",
       "      <td>0.000484</td>\n",
       "    </tr>\n",
       "    <tr>\n",
       "      <th>std</th>\n",
       "      <td>0.077607</td>\n",
       "      <td>0.077551</td>\n",
       "      <td>0.001828</td>\n",
       "    </tr>\n",
       "    <tr>\n",
       "      <th>min</th>\n",
       "      <td>0.031932</td>\n",
       "      <td>0.031946</td>\n",
       "      <td>0.000100</td>\n",
       "    </tr>\n",
       "    <tr>\n",
       "      <th>25%</th>\n",
       "      <td>0.101485</td>\n",
       "      <td>0.100878</td>\n",
       "      <td>0.000233</td>\n",
       "    </tr>\n",
       "    <tr>\n",
       "      <th>50%</th>\n",
       "      <td>0.128188</td>\n",
       "      <td>0.128339</td>\n",
       "      <td>0.000244</td>\n",
       "    </tr>\n",
       "    <tr>\n",
       "      <th>75%</th>\n",
       "      <td>0.161281</td>\n",
       "      <td>0.161388</td>\n",
       "      <td>0.000244</td>\n",
       "    </tr>\n",
       "    <tr>\n",
       "      <th>max</th>\n",
       "      <td>0.967300</td>\n",
       "      <td>0.967298</td>\n",
       "      <td>0.027657</td>\n",
       "    </tr>\n",
       "  </tbody>\n",
       "</table>\n",
       "</div>"
      ],
      "text/plain": [
       "            target         pred        stdev\n",
       "count  1056.000000  1056.000000  1056.000000\n",
       "mean      0.144554     0.144482     0.000484\n",
       "std       0.077607     0.077551     0.001828\n",
       "min       0.031932     0.031946     0.000100\n",
       "25%       0.101485     0.100878     0.000233\n",
       "50%       0.128188     0.128339     0.000244\n",
       "75%       0.161281     0.161388     0.000244\n",
       "max       0.967300     0.967298     0.027657"
      ]
     },
     "execution_count": 10,
     "metadata": {},
     "output_type": "execute_result"
    }
   ],
   "source": [
    "y_preda, stda = res_GPR.best_estimator_.predict(features, return_std=True)\n",
    "y_pred, std = res_GPR.best_estimator_.predict(X_val, return_std=True)\n",
    "dataset = pd.DataFrame({'target': target, 'pred': y_preda, 'stdev': stda}, columns=['target','pred', 'stdev'])\n",
    "dataset1 = pd.DataFrame({'target': y_val, 'pred': y_pred, 'stdev': std}, columns=['target','pred', 'stdev'])\n",
    "dataset.to_csv('results_RBF.csv', sep=',', encoding='utf-8')\n",
    "dataset1.to_csv('valresults_RBF.csv', sep=',', encoding='utf-8')\n",
    "dataset.describe()"
   ]
  },
  {
   "cell_type": "code",
   "execution_count": 12,
   "metadata": {},
   "outputs": [
    {
     "name": "stderr",
     "output_type": "stream",
     "text": [
      "C:\\Users\\asa279\\AppData\\Local\\Continuum\\anaconda3\\lib\\site-packages\\ipykernel_launcher.py:11: SettingWithCopyWarning: \n",
      "A value is trying to be set on a copy of a slice from a DataFrame\n",
      "\n",
      "See the caveats in the documentation: https://pandas.pydata.org/pandas-docs/stable/user_guide/indexing.html#returning-a-view-versus-a-copy\n",
      "  # This is added back by InteractiveShellApp.init_path()\n",
      "C:\\Users\\asa279\\AppData\\Local\\Continuum\\anaconda3\\lib\\site-packages\\ipykernel_launcher.py:9: SettingWithCopyWarning: \n",
      "A value is trying to be set on a copy of a slice from a DataFrame\n",
      "\n",
      "See the caveats in the documentation: https://pandas.pydata.org/pandas-docs/stable/user_guide/indexing.html#returning-a-view-versus-a-copy\n",
      "  if __name__ == '__main__':\n"
     ]
    },
    {
     "name": "stdout",
     "output_type": "stream",
     "text": [
      "Overall Error\n",
      "count     1056.000000\n",
      "unique    1056.000000\n",
      "top          0.000121\n",
      "freq         1.000000\n",
      "Name: error, dtype: float64\n",
      "Validation Error\n",
      "count     51.000000\n",
      "unique    51.000000\n",
      "top        0.000038\n",
      "freq       1.000000\n",
      "Name: error, dtype: float64\n"
     ]
    },
    {
     "name": "stderr",
     "output_type": "stream",
     "text": [
      "C:\\Users\\asa279\\AppData\\Local\\Continuum\\anaconda3\\lib\\site-packages\\ipykernel_launcher.py:18: SettingWithCopyWarning: \n",
      "A value is trying to be set on a copy of a slice from a DataFrame\n",
      "\n",
      "See the caveats in the documentation: https://pandas.pydata.org/pandas-docs/stable/user_guide/indexing.html#returning-a-view-versus-a-copy\n",
      "C:\\Users\\asa279\\AppData\\Local\\Continuum\\anaconda3\\lib\\site-packages\\ipykernel_launcher.py:16: SettingWithCopyWarning: \n",
      "A value is trying to be set on a copy of a slice from a DataFrame\n",
      "\n",
      "See the caveats in the documentation: https://pandas.pydata.org/pandas-docs/stable/user_guide/indexing.html#returning-a-view-versus-a-copy\n",
      "  app.launch_new_instance()\n"
     ]
    }
   ],
   "source": [
    "aresults= pd.read_csv('results_RBF.csv')\n",
    "vresults= pd.read_csv('valresults_RBF.csv')\n",
    "ma=len(aresults['target'].tolist())\n",
    "mv=len(vresults['target'].tolist())\n",
    "aresults['error']=\"\"\n",
    "vresults['error']=\"\"\n",
    "for i in range(0,ma):\n",
    "    if aresults['target'][i]>0.1 or aresults['target'][i] < -0.1:\n",
    "        aresults['error'][i]=abs((abs(aresults['target'][i]-aresults['pred'][i]))/(np.std(data[prop])))\n",
    "    else:\n",
    "        aresults['error'][i]=abs((abs(aresults['target'][i]-aresults['pred'][i]))/(aresults['target'][i]))\n",
    "        \n",
    "        \n",
    "for i in range(0,mv):\n",
    "    if vresults['target'][i]>0.1 or vresults['target'][i] < -0.1:\n",
    "        vresults['error'][i]=abs((abs(vresults['target'][i]-vresults['pred'][i]))/(np.std(data[prop])))\n",
    "    else:\n",
    "        vresults['error'][i]=abs((abs(vresults['target'][i]-vresults['pred'][i]))/(vresults['target'][i]))\n",
    "        \n",
    "print('Overall Error')\n",
    "print(aresults['error'].describe())\n",
    "print('Validation Error')\n",
    "print(vresults['error'].describe())"
   ]
  },
  {
   "cell_type": "code",
   "execution_count": 13,
   "metadata": {},
   "outputs": [
    {
     "data": {
      "image/png": "[encoded data removed]",
      "text/plain": [
       "<Figure size 432x288 with 1 Axes>"
      ]
     },
     "metadata": {
      "needs_background": "light"
     },
     "output_type": "display_data"
    }
   ],
   "source": [
    "import numpy as np\n",
    "import matplotlib.pyplot as plt\n",
    "\n",
    "# Create data\n",
    "x = aresults['target'].to_numpy()\n",
    "y = aresults['error'].to_numpy()*100\n",
    "# Plot\n",
    "plt.scatter(x, y, alpha=0.15)\n",
    "plt.title('Error as function of target for nonlinear '+prop +' model')\n",
    "plt.xlabel(prop+' Value')\n",
    "plt.ylabel('error %')\n",
    "plt.savefig(prop+'nonlin.png')\n",
    "plt.show()"
   ]
  },
  {
   "cell_type": "code",
   "execution_count": 14,
   "metadata": {},
   "outputs": [],
   "source": [
    "fnamea=str(str(prop)+\"nlinALL.text\")\n",
    "print(\"The percentage of data below 1% of error is {:.2f}%\".format(100*len(aresults[aresults['error'] < 0.01])/len(aresults['target'])),file=open(fnamea,\"a\"))\n",
    "print(\"The percentage of data below 5% of error is {:.2f}%\".format(100*len(aresults[aresults['error'] < 0.05])/len(aresults['target'])),file=open(fnamea,\"a\"))\n",
    "print(\"The percentage of data below 10% of error is {:.2f}%\".format(100*len(aresults[aresults['error'] < 0.1])/len(aresults['target'])),file=open(fnamea,\"a\"))\n",
    "print(\"The percentage of data below 20% of error is {:.2f}%\".format(100*len(aresults[aresults['error'] < 0.2])/len(aresults['target'])), file=open(fnamea,\"a\"))\n",
    "\n",
    "\n",
    "fnamev=str(str(prop)+'nlinv.text')\n",
    "print(\"The percentage of data below 1% of error is {:.2f}%\".format(100*len(vresults[vresults['error'] < 0.01])/len(vresults['target'])),file=open(fnamev,\"a\"))\n",
    "print(\"The percentage of data below 5% of error is {:.2f}%\".format(100*len(vresults[vresults['error'] < 0.05])/len(vresults['target'])),file=open(fnamev,\"a\"))\n",
    "print(\"The percentage of data below 10% of error is {:.2f}%\".format(100*len(vresults[vresults['error'] < 0.1])/len(vresults['target'])),file=open(fnamev,\"a\"))\n",
    "print(\"The percentage of data below 20% of error is {:.2f}%\".format(100*len(vresults[vresults['error'] < 0.2])/len(vresults['target'])), file=open(fnamev,\"a\"))\n"
   ]
  },
  {
   "cell_type": "code",
   "execution_count": 18,
   "metadata": {},
   "outputs": [
    {
     "name": "stderr",
     "output_type": "stream",
     "text": [
      "C:\\Users\\asa279\\AppData\\Local\\Continuum\\anaconda3\\lib\\site-packages\\ipykernel_launcher.py:11: SettingWithCopyWarning: \n",
      "A value is trying to be set on a copy of a slice from a DataFrame\n",
      "\n",
      "See the caveats in the documentation: https://pandas.pydata.org/pandas-docs/stable/user_guide/indexing.html#returning-a-view-versus-a-copy\n",
      "  # This is added back by InteractiveShellApp.init_path()\n",
      "C:\\Users\\asa279\\AppData\\Local\\Continuum\\anaconda3\\lib\\site-packages\\ipykernel_launcher.py:9: SettingWithCopyWarning: \n",
      "A value is trying to be set on a copy of a slice from a DataFrame\n",
      "\n",
      "See the caveats in the documentation: https://pandas.pydata.org/pandas-docs/stable/user_guide/indexing.html#returning-a-view-versus-a-copy\n",
      "  if __name__ == '__main__':\n",
      "C:\\Users\\asa279\\AppData\\Local\\Continuum\\anaconda3\\lib\\site-packages\\ipykernel_launcher.py:18: SettingWithCopyWarning: \n",
      "A value is trying to be set on a copy of a slice from a DataFrame\n",
      "\n",
      "See the caveats in the documentation: https://pandas.pydata.org/pandas-docs/stable/user_guide/indexing.html#returning-a-view-versus-a-copy\n",
      "C:\\Users\\asa279\\AppData\\Local\\Continuum\\anaconda3\\lib\\site-packages\\ipykernel_launcher.py:16: SettingWithCopyWarning: \n",
      "A value is trying to be set on a copy of a slice from a DataFrame\n",
      "\n",
      "See the caveats in the documentation: https://pandas.pydata.org/pandas-docs/stable/user_guide/indexing.html#returning-a-view-versus-a-copy\n",
      "  app.launch_new_instance()\n"
     ]
    },
    {
     "name": "stdout",
     "output_type": "stream",
     "text": [
      "Overall Error\n",
      "count     1056.000000\n",
      "unique    1056.000000\n",
      "top          0.000121\n",
      "freq         1.000000\n",
      "Name: error, dtype: float64\n",
      "Validation Error\n",
      "count     51.000000\n",
      "unique    51.000000\n",
      "top        0.000038\n",
      "freq       1.000000\n",
      "Name: error, dtype: float64\n",
      "0.00012401673179879166\n",
      "1.3639037908016241e-06\n"
     ]
    },
    {
     "data": {
      "image/png": "[encoded data removed]",
      "text/plain": [
       "<Figure size 432x288 with 1 Axes>"
      ]
     },
     "metadata": {
      "needs_background": "light"
     },
     "output_type": "display_data"
    }
   ],
   "source": [
    "aresults= pd.read_csv('results_RBF.csv')\n",
    "vresults= pd.read_csv('valresults_RBF.csv')\n",
    "ma=len(aresults['target'].tolist())\n",
    "mv=len(vresults['target'].tolist())\n",
    "aresults['error']=\"\"\n",
    "vresults['error']=\"\"\n",
    "for i in range(0,ma):\n",
    "    if aresults['target'][i]>0.1 or aresults['target'][i] < -0.1:\n",
    "        aresults['error'][i]=abs((abs(aresults['target'][i]-aresults['pred'][i]))/(np.std(data[prop])))\n",
    "    else:\n",
    "        aresults['error'][i]=abs((abs(aresults['target'][i]-aresults['pred'][i]))/(aresults['target'][i]))\n",
    "        \n",
    "        \n",
    "for i in range(0,mv):\n",
    "    if vresults['target'][i]>0.1 or vresults['target'][i] < -0.1:\n",
    "        vresults['error'][i]=abs((abs(vresults['target'][i]-vresults['pred'][i]))/(np.std(data[prop])))\n",
    "    else:\n",
    "        vresults['error'][i]=abs((abs(vresults['target'][i]-vresults['pred'][i]))/(vresults['target'][i]))\n",
    "        \n",
    "print('Overall Error')\n",
    "print(aresults['error'].describe())\n",
    "print('Validation Error')\n",
    "print(vresults['error'].describe())\n",
    "print(aresults['error'].median())\n",
    "from sklearn.metrics import mean_squared_error\n",
    "MSE = mean_squared_error(aresults['target'].values, aresults['pred'].values)\n",
    "print(MSE)\n",
    "import numpy as np\n",
    "import matplotlib.pyplot as plt\n",
    "\n",
    "aresultss=aresults.sort_values('error')\n",
    "# Create data\n",
    "x = np.arange(1, len(aresultss['error'].to_numpy())+1, 1)\n",
    "y = aresultss['error'].to_numpy()*100\n",
    "# Plot\n",
    "plt.scatter(x, y, color='tab:blue',alpha=0.2)\n",
    "plt.axhline(y=10, color='r', linestyle='--')\n",
    "plt.title('Relative Error vs. Number of Molecules')\n",
    "plt.xlabel('Count')\n",
    "plt.ylabel('Error %')\n",
    "plt.text(5, 12, '10% error', fontsize=12, color='red')\n",
    "plt.ylim(-5, 100)\n",
    "plt.xlim(0, len(aresults['target'].values))\n",
    "plt.savefig(prop+'nlcurve.png',dpi=1200)\n",
    "plt.tight_layout()\n",
    "plt.show()"
   ]
  },
  {
   "cell_type": "code",
   "execution_count": null,
   "metadata": {},
   "outputs": [],
   "source": []
  },
  {
   "cell_type": "code",
   "execution_count": null,
   "metadata": {},
   "outputs": [],
   "source": []
  }
 ],
 "metadata": {
  "kernelspec": {
   "display_name": "Python 3",
   "language": "python",
   "name": "python3"
  },
  "language_info": {
   "codemirror_mode": {
    "name": "ipython",
    "version": 3
   },
   "file_extension": ".py",
   "mimetype": "text/x-python",
   "name": "python",
   "nbconvert_exporter": "python",
   "pygments_lexer": "ipython3",
   "version": "3.7.3"
  }
 },
 "nbformat": 4,
 "nbformat_minor": 1
}
