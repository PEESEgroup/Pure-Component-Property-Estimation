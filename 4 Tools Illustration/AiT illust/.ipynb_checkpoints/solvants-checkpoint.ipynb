{
 "cells": [
  {
   "cell_type": "markdown",
   "metadata": {},
   "source": [
    "## Import Libraries"
   ]
  },
  {
   "cell_type": "code",
   "execution_count": 1,
   "metadata": {},
   "outputs": [],
   "source": [
    "prop='Tb'\n",
    "import numpy as np\n",
    "import pandas as pd\n",
    "from IPython.display import display \n",
    "import matplotlib.pyplot as plt\n",
    "import numpy as np\n",
    "import pickle\n",
    "filename = 'GP_model.sav'\n",
    "model = pickle.load(open(filename, 'rb'))\n",
    "dataa= pd.read_excel('solvents.xlsx')\n",
    "dataa.head()\n",
    "dataa=dataa.drop(['Smiles'], axis=1)\n",
    "y_pred, std = model.predict(dataa.values, return_std=True)\n",
    "dataset = pd.DataFrame({'pred': y_pred, 'stdev': std}, columns=['pred', 'stdev'])\n",
    "dataset.to_csv('solve_res.csv', sep=',', encoding='utf-8')\n"
   ]
  },
  {
   "cell_type": "code",
   "execution_count": null,
   "metadata": {},
   "outputs": [],
   "source": []
  }
 ],
 "metadata": {
  "kernelspec": {
   "display_name": "Python 3",
   "language": "python",
   "name": "python3"
  },
  "language_info": {
   "codemirror_mode": {
    "name": "ipython",
    "version": 3
   },
   "file_extension": ".py",
   "mimetype": "text/x-python",
   "name": "python",
   "nbconvert_exporter": "python",
   "pygments_lexer": "ipython3",
   "version": "3.7.3"
  }
 },
 "nbformat": 4,
 "nbformat_minor": 1
}
