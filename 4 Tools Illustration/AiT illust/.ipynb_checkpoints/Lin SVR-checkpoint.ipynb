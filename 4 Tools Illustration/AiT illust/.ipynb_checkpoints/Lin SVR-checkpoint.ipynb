{
 "cells": [
  {
   "cell_type": "code",
   "execution_count": 1,
   "metadata": {},
   "outputs": [],
   "source": [
    "prop='AiT'"
   ]
  },
  {
   "cell_type": "markdown",
   "metadata": {},
   "source": [
    "## Import Libraries"
   ]
  },
  {
   "cell_type": "code",
   "execution_count": 2,
   "metadata": {},
   "outputs": [
    {
     "name": "stderr",
     "output_type": "stream",
     "text": [
      "Using TensorFlow backend.\n",
      "C:\\Users\\asa279\\AppData\\Roaming\\Python\\Python37\\site-packages\\tensorboard\\compat\\tensorflow_stub\\dtypes.py:541: FutureWarning: Passing (type, 1) or '1type' as a synonym of type is deprecated; in a future version of numpy, it will be understood as (type, (1,)) / '(1,)type'.\n",
      "  _np_qint8 = np.dtype([(\"qint8\", np.int8, 1)])\n",
      "C:\\Users\\asa279\\AppData\\Roaming\\Python\\Python37\\site-packages\\tensorboard\\compat\\tensorflow_stub\\dtypes.py:542: FutureWarning: Passing (type, 1) or '1type' as a synonym of type is deprecated; in a future version of numpy, it will be understood as (type, (1,)) / '(1,)type'.\n",
      "  _np_quint8 = np.dtype([(\"quint8\", np.uint8, 1)])\n",
      "C:\\Users\\asa279\\AppData\\Roaming\\Python\\Python37\\site-packages\\tensorboard\\compat\\tensorflow_stub\\dtypes.py:543: FutureWarning: Passing (type, 1) or '1type' as a synonym of type is deprecated; in a future version of numpy, it will be understood as (type, (1,)) / '(1,)type'.\n",
      "  _np_qint16 = np.dtype([(\"qint16\", np.int16, 1)])\n",
      "C:\\Users\\asa279\\AppData\\Roaming\\Python\\Python37\\site-packages\\tensorboard\\compat\\tensorflow_stub\\dtypes.py:544: FutureWarning: Passing (type, 1) or '1type' as a synonym of type is deprecated; in a future version of numpy, it will be understood as (type, (1,)) / '(1,)type'.\n",
      "  _np_quint16 = np.dtype([(\"quint16\", np.uint16, 1)])\n",
      "C:\\Users\\asa279\\AppData\\Roaming\\Python\\Python37\\site-packages\\tensorboard\\compat\\tensorflow_stub\\dtypes.py:545: FutureWarning: Passing (type, 1) or '1type' as a synonym of type is deprecated; in a future version of numpy, it will be understood as (type, (1,)) / '(1,)type'.\n",
      "  _np_qint32 = np.dtype([(\"qint32\", np.int32, 1)])\n",
      "C:\\Users\\asa279\\AppData\\Roaming\\Python\\Python37\\site-packages\\tensorboard\\compat\\tensorflow_stub\\dtypes.py:550: FutureWarning: Passing (type, 1) or '1type' as a synonym of type is deprecated; in a future version of numpy, it will be understood as (type, (1,)) / '(1,)type'.\n",
      "  np_resource = np.dtype([(\"resource\", np.ubyte, 1)])\n"
     ]
    },
    {
     "name": "stdout",
     "output_type": "stream",
     "text": [
      "The AiT dataset has 570 data points with 425 features each.\n"
     ]
    }
   ],
   "source": [
    "import numpy as np\n",
    "import pandas as pd\n",
    "from IPython.display import display \n",
    "import keras\n",
    "import matplotlib.pyplot as plt\n",
    "import numpy as np\n",
    "\n",
    "\n",
    "%matplotlib inline\n",
    "data= pd.read_excel(prop+'_gc.xlsx')\n",
    "#Print features\n",
    "print(\"The \"+prop+\" dataset has {} data points with {} features each.\".format(*data.shape))"
   ]
  },
  {
   "cell_type": "markdown",
   "metadata": {},
   "source": [
    "## Data Exploration and Cleaning"
   ]
  },
  {
   "cell_type": "code",
   "execution_count": 3,
   "metadata": {
    "scrolled": true
   },
   "outputs": [
    {
     "name": "stdout",
     "output_type": "stream",
     "text": [
      "Now the AiT  dataset has 570 data points with 425 features each.\n",
      "               AiT           1           2           3           4  \\\n",
      "count   570.000000  570.000000  570.000000  570.000000  570.000000   \n",
      "mean    643.649333    1.298246    2.657895    0.194737    0.043860   \n",
      "std     129.874675    1.262754    4.947579    0.505478    0.221449   \n",
      "min       6.500000    0.000000    0.000000    0.000000    0.000000   \n",
      "25%     543.862500    0.000000    0.000000    0.000000    0.000000   \n",
      "50%     647.040000    1.000000    1.000000    0.000000    0.000000   \n",
      "75%     728.150000    2.000000    3.000000    0.000000    0.000000   \n",
      "max    1283.150000    6.000000   34.000000    3.000000    2.000000   \n",
      "\n",
      "                5           6           7           8           9  ...    415  \\\n",
      "count  570.000000  570.000000  570.000000  570.000000  570.000000  ...  570.0   \n",
      "mean     0.082456    0.033333    0.028070    0.007018    0.003509  ...    0.0   \n",
      "std      0.293828    0.206939    0.165318    0.083550    0.059183  ...    0.0   \n",
      "min      0.000000    0.000000    0.000000    0.000000    0.000000  ...    0.0   \n",
      "25%      0.000000    0.000000    0.000000    0.000000    0.000000  ...    0.0   \n",
      "50%      0.000000    0.000000    0.000000    0.000000    0.000000  ...    0.0   \n",
      "75%      0.000000    0.000000    0.000000    0.000000    0.000000  ...    0.0   \n",
      "max      2.000000    3.000000    1.000000    1.000000    1.000000  ...    0.0   \n",
      "\n",
      "         416    417    418    419    420    421    422    423    424  \n",
      "count  570.0  570.0  570.0  570.0  570.0  570.0  570.0  570.0  570.0  \n",
      "mean     0.0    0.0    0.0    0.0    0.0    0.0    0.0    0.0    0.0  \n",
      "std      0.0    0.0    0.0    0.0    0.0    0.0    0.0    0.0    0.0  \n",
      "min      0.0    0.0    0.0    0.0    0.0    0.0    0.0    0.0    0.0  \n",
      "25%      0.0    0.0    0.0    0.0    0.0    0.0    0.0    0.0    0.0  \n",
      "50%      0.0    0.0    0.0    0.0    0.0    0.0    0.0    0.0    0.0  \n",
      "75%      0.0    0.0    0.0    0.0    0.0    0.0    0.0    0.0    0.0  \n",
      "max      0.0    0.0    0.0    0.0    0.0    0.0    0.0    0.0    0.0  \n",
      "\n",
      "[8 rows x 425 columns]\n"
     ]
    }
   ],
   "source": [
    "def clean_dataset(df):\n",
    "    assert isinstance(df, pd.DataFrame), \"df needs to be a pd.DataFrame\"\n",
    "    df.dropna(inplace=True)\n",
    "    indices_to_keep = ~df.isin([np.nan, np.inf, -np.inf]).any(1)\n",
    "    return df[indices_to_keep].astype(np.float64)\n",
    "clean_dataset(data)\n",
    "data.drop(data.columns[data.eq(0).all()], axis=1)\n",
    "print(\"Now the \"+prop+\"  dataset has {} data points with {} features each.\".format(*data.shape))\n",
    "print(data.describe())"
   ]
  },
  {
   "cell_type": "markdown",
   "metadata": {},
   "source": [
    "## Visualize Frequency"
   ]
  },
  {
   "cell_type": "code",
   "execution_count": 4,
   "metadata": {
    "scrolled": true
   },
   "outputs": [
    {
     "data": {
      "image/png": "[encoded data removed]",
      "text/plain": [
       "<Figure size 432x288 with 1 Axes>"
      ]
     },
     "metadata": {
      "needs_background": "light"
     },
     "output_type": "display_data"
    }
   ],
   "source": [
    "import matplotlib.pyplot as plt\n",
    "import numpy as np\n",
    "import numpy as np\n",
    "import matplotlib.mlab as mlab\n",
    "import matplotlib.pyplot as plt\n",
    "\n",
    "x = data[prop].values.tolist()\n",
    "num_bins = 50\n",
    "n, bins, patches = plt.hist(x, num_bins, facecolor='blue', alpha=0.5)\n",
    "plt.show()"
   ]
  },
  {
   "cell_type": "markdown",
   "metadata": {},
   "source": [
    "## Split Data into Training, Testing, and Validation"
   ]
  },
  {
   "cell_type": "code",
   "execution_count": 5,
   "metadata": {
    "scrolled": false
   },
   "outputs": [
    {
     "name": "stdout",
     "output_type": "stream",
     "text": [
      "Training and testing split was successful\n"
     ]
    }
   ],
   "source": [
    "from sklearn.model_selection import train_test_split\n",
    "from sklearn.model_selection import StratifiedKFold\n",
    "target = data[prop]\n",
    "features = data.drop(prop, axis = 1)\n",
    "X_train1, X_test, y_train1, y_test = train_test_split(features, target,random_state=19, test_size=0.05)\n",
    "X_train, X_val, y_train, y_val = train_test_split(X_train1, y_train1,random_state=19, test_size=0.05)\n",
    "print('Training and testing split was successful')"
   ]
  },
  {
   "cell_type": "markdown",
   "metadata": {},
   "source": [
    "## SVR Grid Search Optimization: neg_mean_squared_error"
   ]
  },
  {
   "cell_type": "code",
   "execution_count": null,
   "metadata": {
    "scrolled": false
   },
   "outputs": [
    {
     "name": "stdout",
     "output_type": "stream",
     "text": [
      "Fitting 20 folds for each of 36 candidates, totalling 720 fits\n",
      "[CV] C=1, epsilon=0.001, gamma=0.001 .................................\n"
     ]
    },
    {
     "name": "stderr",
     "output_type": "stream",
     "text": [
      "[Parallel(n_jobs=1)]: Using backend SequentialBackend with 1 concurrent workers.\n"
     ]
    },
    {
     "name": "stdout",
     "output_type": "stream",
     "text": [
      "[CV]  C=1, epsilon=0.001, gamma=0.001, score=(train=-9669.939, test=-10980.770), total=   0.2s\n",
      "[CV] C=1, epsilon=0.001, gamma=0.001 .................................\n"
     ]
    },
    {
     "name": "stderr",
     "output_type": "stream",
     "text": [
      "[Parallel(n_jobs=1)]: Done   1 out of   1 | elapsed:    0.3s remaining:    0.0s\n"
     ]
    },
    {
     "name": "stdout",
     "output_type": "stream",
     "text": [
      "[CV]  C=1, epsilon=0.001, gamma=0.001, score=(train=-9887.978, test=-8236.888), total=   0.3s\n",
      "[CV] C=1, epsilon=0.001, gamma=0.001 .................................\n"
     ]
    },
    {
     "name": "stderr",
     "output_type": "stream",
     "text": [
      "[Parallel(n_jobs=1)]: Done   2 out of   2 | elapsed:    0.8s remaining:    0.0s\n"
     ]
    },
    {
     "name": "stdout",
     "output_type": "stream",
     "text": [
      "[CV]  C=1, epsilon=0.001, gamma=0.001, score=(train=-10065.209, test=-6876.780), total=   0.2s\n",
      "[CV] C=1, epsilon=0.001, gamma=0.001 .................................\n"
     ]
    },
    {
     "name": "stderr",
     "output_type": "stream",
     "text": [
      "[Parallel(n_jobs=1)]: Done   3 out of   3 | elapsed:    1.1s remaining:    0.0s\n"
     ]
    },
    {
     "name": "stdout",
     "output_type": "stream",
     "text": [
      "[CV]  C=1, epsilon=0.001, gamma=0.001, score=(train=-10166.119, test=-6864.738), total=   0.2s\n",
      "[CV] C=1, epsilon=0.001, gamma=0.001 .................................\n"
     ]
    },
    {
     "name": "stderr",
     "output_type": "stream",
     "text": [
      "[Parallel(n_jobs=1)]: Done   4 out of   4 | elapsed:    1.4s remaining:    0.0s\n"
     ]
    },
    {
     "name": "stdout",
     "output_type": "stream",
     "text": [
      "[CV]  C=1, epsilon=0.001, gamma=0.001, score=(train=-10169.081, test=-6607.796), total=   0.2s\n",
      "[CV] C=1, epsilon=0.001, gamma=0.001 .................................\n"
     ]
    },
    {
     "name": "stderr",
     "output_type": "stream",
     "text": [
      "[Parallel(n_jobs=1)]: Done   5 out of   5 | elapsed:    1.7s remaining:    0.0s\n"
     ]
    },
    {
     "name": "stdout",
     "output_type": "stream",
     "text": [
      "[CV]  C=1, epsilon=0.001, gamma=0.001, score=(train=-10280.782, test=-4748.197), total=   0.1s\n",
      "[CV] C=1, epsilon=0.001, gamma=0.001 .................................\n"
     ]
    },
    {
     "name": "stderr",
     "output_type": "stream",
     "text": [
      "[Parallel(n_jobs=1)]: Done   6 out of   6 | elapsed:    2.0s remaining:    0.0s\n"
     ]
    },
    {
     "name": "stdout",
     "output_type": "stream",
     "text": [
      "[CV]  C=1, epsilon=0.001, gamma=0.001, score=(train=-9677.683, test=-10607.003), total=   0.2s\n",
      "[CV] C=1, epsilon=0.001, gamma=0.001 .................................\n"
     ]
    },
    {
     "name": "stderr",
     "output_type": "stream",
     "text": [
      "[Parallel(n_jobs=1)]: Done   7 out of   7 | elapsed:    2.4s remaining:    0.0s\n"
     ]
    },
    {
     "name": "stdout",
     "output_type": "stream",
     "text": [
      "[CV]  C=1, epsilon=0.001, gamma=0.001, score=(train=-9595.797, test=-11692.263), total=   0.2s\n",
      "[CV] C=1, epsilon=0.001, gamma=0.001 .................................\n"
     ]
    },
    {
     "name": "stderr",
     "output_type": "stream",
     "text": [
      "[Parallel(n_jobs=1)]: Done   8 out of   8 | elapsed:    2.7s remaining:    0.0s\n"
     ]
    },
    {
     "name": "stdout",
     "output_type": "stream",
     "text": [
      "[CV]  C=1, epsilon=0.001, gamma=0.001, score=(train=-10122.822, test=-7211.769), total=   0.2s\n",
      "[CV] C=1, epsilon=0.001, gamma=0.001 .................................\n"
     ]
    },
    {
     "name": "stderr",
     "output_type": "stream",
     "text": [
      "[Parallel(n_jobs=1)]: Done   9 out of   9 | elapsed:    3.1s remaining:    0.0s\n"
     ]
    },
    {
     "name": "stdout",
     "output_type": "stream",
     "text": [
      "[CV]  C=1, epsilon=0.001, gamma=0.001, score=(train=-9900.185, test=-10046.265), total=   0.2s\n",
      "[CV] C=1, epsilon=0.001, gamma=0.001 .................................\n"
     ]
    },
    {
     "name": "stderr",
     "output_type": "stream",
     "text": [
      "[Parallel(n_jobs=1)]: Done  10 out of  10 | elapsed:    3.4s remaining:    0.0s\n"
     ]
    },
    {
     "name": "stdout",
     "output_type": "stream",
     "text": [
      "[CV]  C=1, epsilon=0.001, gamma=0.001, score=(train=-9124.572, test=-16851.891), total=   0.2s\n",
      "[CV] C=1, epsilon=0.001, gamma=0.001 .................................\n"
     ]
    },
    {
     "name": "stderr",
     "output_type": "stream",
     "text": [
      "[Parallel(n_jobs=1)]: Done  11 out of  11 | elapsed:    3.8s remaining:    0.0s\n"
     ]
    },
    {
     "name": "stdout",
     "output_type": "stream",
     "text": [
      "[CV]  C=1, epsilon=0.001, gamma=0.001, score=(train=-9031.336, test=-16300.628), total=   0.2s\n",
      "[CV] C=1, epsilon=0.001, gamma=0.001 .................................\n"
     ]
    },
    {
     "name": "stderr",
     "output_type": "stream",
     "text": [
      "[Parallel(n_jobs=1)]: Done  12 out of  12 | elapsed:    4.1s remaining:    0.0s\n"
     ]
    },
    {
     "name": "stdout",
     "output_type": "stream",
     "text": [
      "[CV]  C=1, epsilon=0.001, gamma=0.001, score=(train=-9645.657, test=-10641.903), total=   0.2s\n",
      "[CV] C=1, epsilon=0.001, gamma=0.001 .................................\n"
     ]
    },
    {
     "name": "stderr",
     "output_type": "stream",
     "text": [
      "[Parallel(n_jobs=1)]: Done  13 out of  13 | elapsed:    4.5s remaining:    0.0s\n"
     ]
    },
    {
     "name": "stdout",
     "output_type": "stream",
     "text": [
      "[CV]  C=1, epsilon=0.001, gamma=0.001, score=(train=-10217.106, test=-5204.281), total=   0.2s\n",
      "[CV] C=1, epsilon=0.001, gamma=0.001 .................................\n"
     ]
    },
    {
     "name": "stderr",
     "output_type": "stream",
     "text": [
      "[Parallel(n_jobs=1)]: Done  14 out of  14 | elapsed:    4.9s remaining:    0.0s\n"
     ]
    },
    {
     "name": "stdout",
     "output_type": "stream",
     "text": [
      "[CV]  C=1, epsilon=0.001, gamma=0.001, score=(train=-9251.790, test=-14036.934), total=   0.2s\n",
      "[CV] C=1, epsilon=0.001, gamma=0.001 .................................\n"
     ]
    },
    {
     "name": "stderr",
     "output_type": "stream",
     "text": [
      "[Parallel(n_jobs=1)]: Done  15 out of  15 | elapsed:    5.3s remaining:    0.0s\n"
     ]
    },
    {
     "name": "stdout",
     "output_type": "stream",
     "text": [
      "[CV]  C=1, epsilon=0.001, gamma=0.001, score=(train=-9966.300, test=-8888.123), total=   0.2s\n",
      "[CV] C=1, epsilon=0.001, gamma=0.001 .................................\n"
     ]
    },
    {
     "name": "stderr",
     "output_type": "stream",
     "text": [
      "[Parallel(n_jobs=1)]: Done  16 out of  16 | elapsed:    5.6s remaining:    0.0s\n"
     ]
    },
    {
     "name": "stdout",
     "output_type": "stream",
     "text": [
      "[CV]  C=1, epsilon=0.001, gamma=0.001, score=(train=-9805.225, test=-9463.036), total=   0.2s\n",
      "[CV] C=1, epsilon=0.001, gamma=0.001 .................................\n"
     ]
    },
    {
     "name": "stderr",
     "output_type": "stream",
     "text": [
      "[Parallel(n_jobs=1)]: Done  17 out of  17 | elapsed:    5.9s remaining:    0.0s\n"
     ]
    },
    {
     "name": "stdout",
     "output_type": "stream",
     "text": [
      "[CV]  C=1, epsilon=0.001, gamma=0.001, score=(train=-9110.928, test=-15925.031), total=   0.1s\n",
      "[CV] C=1, epsilon=0.001, gamma=0.001 .................................\n"
     ]
    },
    {
     "name": "stderr",
     "output_type": "stream",
     "text": [
      "[Parallel(n_jobs=1)]: Done  18 out of  18 | elapsed:    6.1s remaining:    0.0s\n"
     ]
    },
    {
     "name": "stdout",
     "output_type": "stream",
     "text": [
      "[CV]  C=1, epsilon=0.001, gamma=0.001, score=(train=-9774.587, test=-9251.215), total=   0.1s\n",
      "[CV] C=1, epsilon=0.001, gamma=0.001 .................................\n"
     ]
    },
    {
     "name": "stderr",
     "output_type": "stream",
     "text": [
      "[Parallel(n_jobs=1)]: Done  19 out of  19 | elapsed:    6.4s remaining:    0.0s\n"
     ]
    },
    {
     "name": "stdout",
     "output_type": "stream",
     "text": [
      "[CV]  C=1, epsilon=0.001, gamma=0.001, score=(train=-10181.046, test=-6664.886), total=   0.1s\n",
      "[CV] C=1, epsilon=0.001, gamma=0.01 ..................................\n",
      "[CV]  C=1, epsilon=0.001, gamma=0.01, score=(train=-9669.939, test=-10980.770), total=   0.2s\n",
      "[CV] C=1, epsilon=0.001, gamma=0.01 ..................................\n",
      "[CV]  C=1, epsilon=0.001, gamma=0.01, score=(train=-9887.978, test=-8236.888), total=   0.2s\n",
      "[CV] C=1, epsilon=0.001, gamma=0.01 ..................................\n",
      "[CV]  C=1, epsilon=0.001, gamma=0.01, score=(train=-10065.209, test=-6876.780), total=   0.1s\n",
      "[CV] C=1, epsilon=0.001, gamma=0.01 ..................................\n",
      "[CV]  C=1, epsilon=0.001, gamma=0.01, score=(train=-10166.119, test=-6864.738), total=   0.1s\n",
      "[CV] C=1, epsilon=0.001, gamma=0.01 ..................................\n",
      "[CV]  C=1, epsilon=0.001, gamma=0.01, score=(train=-10169.081, test=-6607.796), total=   0.1s\n",
      "[CV] C=1, epsilon=0.001, gamma=0.01 ..................................\n",
      "[CV]  C=1, epsilon=0.001, gamma=0.01, score=(train=-10280.782, test=-4748.197), total=   0.1s\n",
      "[CV] C=1, epsilon=0.001, gamma=0.01 ..................................\n",
      "[CV]  C=1, epsilon=0.001, gamma=0.01, score=(train=-9677.683, test=-10607.003), total=   0.1s\n",
      "[CV] C=1, epsilon=0.001, gamma=0.01 ..................................\n",
      "[CV]  C=1, epsilon=0.001, gamma=0.01, score=(train=-9595.797, test=-11692.263), total=   0.2s\n",
      "[CV] C=1, epsilon=0.001, gamma=0.01 ..................................\n",
      "[CV]  C=1, epsilon=0.001, gamma=0.01, score=(train=-10122.822, test=-7211.769), total=   0.2s\n",
      "[CV] C=1, epsilon=0.001, gamma=0.01 ..................................\n",
      "[CV]  C=1, epsilon=0.001, gamma=0.01, score=(train=-9900.185, test=-10046.265), total=   0.2s\n",
      "[CV] C=1, epsilon=0.001, gamma=0.01 ..................................\n",
      "[CV]  C=1, epsilon=0.001, gamma=0.01, score=(train=-9124.572, test=-16851.891), total=   0.1s\n",
      "[CV] C=1, epsilon=0.001, gamma=0.01 ..................................\n",
      "[CV]  C=1, epsilon=0.001, gamma=0.01, score=(train=-9031.336, test=-16300.628), total=   0.1s\n",
      "[CV] C=1, epsilon=0.001, gamma=0.01 ..................................\n",
      "[CV]  C=1, epsilon=0.001, gamma=0.01, score=(train=-9645.657, test=-10641.903), total=   0.1s\n",
      "[CV] C=1, epsilon=0.001, gamma=0.01 ..................................\n",
      "[CV]  C=1, epsilon=0.001, gamma=0.01, score=(train=-10217.106, test=-5204.281), total=   0.1s\n",
      "[CV] C=1, epsilon=0.001, gamma=0.01 ..................................\n",
      "[CV]  C=1, epsilon=0.001, gamma=0.01, score=(train=-9251.790, test=-14036.934), total=   0.1s\n",
      "[CV] C=1, epsilon=0.001, gamma=0.01 ..................................\n",
      "[CV]  C=1, epsilon=0.001, gamma=0.01, score=(train=-9966.300, test=-8888.123), total=   0.1s\n",
      "[CV] C=1, epsilon=0.001, gamma=0.01 ..................................\n",
      "[CV]  C=1, epsilon=0.001, gamma=0.01, score=(train=-9805.225, test=-9463.036), total=   0.2s\n",
      "[CV] C=1, epsilon=0.001, gamma=0.01 ..................................\n",
      "[CV]  C=1, epsilon=0.001, gamma=0.01, score=(train=-9110.928, test=-15925.031), total=   0.2s\n",
      "[CV] C=1, epsilon=0.001, gamma=0.01 ..................................\n",
      "[CV]  C=1, epsilon=0.001, gamma=0.01, score=(train=-9774.587, test=-9251.215), total=   0.1s\n",
      "[CV] C=1, epsilon=0.001, gamma=0.01 ..................................\n",
      "[CV]  C=1, epsilon=0.001, gamma=0.01, score=(train=-10181.046, test=-6664.886), total=   0.2s\n",
      "[CV] C=1, epsilon=0.001, gamma=0.1 ...................................\n",
      "[CV]  C=1, epsilon=0.001, gamma=0.1, score=(train=-9669.939, test=-10980.770), total=   0.2s\n",
      "[CV] C=1, epsilon=0.001, gamma=0.1 ...................................\n",
      "[CV]  C=1, epsilon=0.001, gamma=0.1, score=(train=-9887.978, test=-8236.888), total=   0.1s\n",
      "[CV] C=1, epsilon=0.001, gamma=0.1 ...................................\n",
      "[CV]  C=1, epsilon=0.001, gamma=0.1, score=(train=-10065.209, test=-6876.780), total=   0.1s\n",
      "[CV] C=1, epsilon=0.001, gamma=0.1 ...................................\n",
      "[CV]  C=1, epsilon=0.001, gamma=0.1, score=(train=-10166.119, test=-6864.738), total=   0.1s\n",
      "[CV] C=1, epsilon=0.001, gamma=0.1 ...................................\n",
      "[CV]  C=1, epsilon=0.001, gamma=0.1, score=(train=-10169.081, test=-6607.796), total=   0.2s\n",
      "[CV] C=1, epsilon=0.001, gamma=0.1 ...................................\n",
      "[CV]  C=1, epsilon=0.001, gamma=0.1, score=(train=-10280.782, test=-4748.197), total=   0.2s\n",
      "[CV] C=1, epsilon=0.001, gamma=0.1 ...................................\n",
      "[CV]  C=1, epsilon=0.001, gamma=0.1, score=(train=-9677.683, test=-10607.003), total=   0.2s\n",
      "[CV] C=1, epsilon=0.001, gamma=0.1 ...................................\n",
      "[CV]  C=1, epsilon=0.001, gamma=0.1, score=(train=-9595.797, test=-11692.263), total=   0.2s\n",
      "[CV] C=1, epsilon=0.001, gamma=0.1 ...................................\n",
      "[CV]  C=1, epsilon=0.001, gamma=0.1, score=(train=-10122.822, test=-7211.769), total=   0.1s\n",
      "[CV] C=1, epsilon=0.001, gamma=0.1 ...................................\n",
      "[CV]  C=1, epsilon=0.001, gamma=0.1, score=(train=-9900.185, test=-10046.265), total=   0.1s\n",
      "[CV] C=1, epsilon=0.001, gamma=0.1 ...................................\n",
      "[CV]  C=1, epsilon=0.001, gamma=0.1, score=(train=-9124.572, test=-16851.891), total=   0.1s\n",
      "[CV] C=1, epsilon=0.001, gamma=0.1 ...................................\n",
      "[CV]  C=1, epsilon=0.001, gamma=0.1, score=(train=-9031.336, test=-16300.628), total=   0.1s\n",
      "[CV] C=1, epsilon=0.001, gamma=0.1 ...................................\n",
      "[CV]  C=1, epsilon=0.001, gamma=0.1, score=(train=-9645.657, test=-10641.903), total=   0.2s\n",
      "[CV] C=1, epsilon=0.001, gamma=0.1 ...................................\n",
      "[CV]  C=1, epsilon=0.001, gamma=0.1, score=(train=-10217.106, test=-5204.281), total=   0.2s\n",
      "[CV] C=1, epsilon=0.001, gamma=0.1 ...................................\n",
      "[CV]  C=1, epsilon=0.001, gamma=0.1, score=(train=-9251.790, test=-14036.934), total=   0.1s\n",
      "[CV] C=1, epsilon=0.001, gamma=0.1 ...................................\n",
      "[CV]  C=1, epsilon=0.001, gamma=0.1, score=(train=-9966.300, test=-8888.123), total=   0.1s\n",
      "[CV] C=1, epsilon=0.001, gamma=0.1 ...................................\n",
      "[CV]  C=1, epsilon=0.001, gamma=0.1, score=(train=-9805.225, test=-9463.036), total=   0.1s\n",
      "[CV] C=1, epsilon=0.001, gamma=0.1 ...................................\n",
      "[CV]  C=1, epsilon=0.001, gamma=0.1, score=(train=-9110.928, test=-15925.031), total=   0.2s\n",
      "[CV] C=1, epsilon=0.001, gamma=0.1 ...................................\n",
      "[CV]  C=1, epsilon=0.001, gamma=0.1, score=(train=-9774.587, test=-9251.215), total=   0.1s\n",
      "[CV] C=1, epsilon=0.001, gamma=0.1 ...................................\n",
      "[CV]  C=1, epsilon=0.001, gamma=0.1, score=(train=-10181.046, test=-6664.886), total=   0.1s\n",
      "[CV] C=1, epsilon=0.01, gamma=0.001 ..................................\n",
      "[CV]  C=1, epsilon=0.01, gamma=0.001, score=(train=-9669.804, test=-10980.831), total=   0.2s\n",
      "[CV] C=1, epsilon=0.01, gamma=0.001 ..................................\n",
      "[CV]  C=1, epsilon=0.01, gamma=0.001, score=(train=-9887.902, test=-8237.234), total=   0.2s\n",
      "[CV] C=1, epsilon=0.01, gamma=0.001 ..................................\n",
      "[CV]  C=1, epsilon=0.01, gamma=0.001, score=(train=-10065.317, test=-6876.757), total=   0.1s\n",
      "[CV] C=1, epsilon=0.01, gamma=0.001 ..................................\n",
      "[CV]  C=1, epsilon=0.01, gamma=0.001, score=(train=-10166.173, test=-6864.808), total=   0.1s\n",
      "[CV] C=1, epsilon=0.01, gamma=0.001 ..................................\n",
      "[CV]  C=1, epsilon=0.01, gamma=0.001, score=(train=-10169.150, test=-6607.670), total=   0.1s\n",
      "[CV] C=1, epsilon=0.01, gamma=0.001 ..................................\n",
      "[CV]  C=1, epsilon=0.01, gamma=0.001, score=(train=-10280.760, test=-4748.198), total=   0.1s\n",
      "[CV] C=1, epsilon=0.01, gamma=0.001 ..................................\n",
      "[CV]  C=1, epsilon=0.01, gamma=0.001, score=(train=-9677.726, test=-10607.046), total=   0.1s\n",
      "[CV] C=1, epsilon=0.01, gamma=0.001 ..................................\n",
      "[CV]  C=1, epsilon=0.01, gamma=0.001, score=(train=-9595.933, test=-11691.940), total=   0.2s\n",
      "[CV] C=1, epsilon=0.01, gamma=0.001 ..................................\n",
      "[CV]  C=1, epsilon=0.01, gamma=0.001, score=(train=-10122.732, test=-7211.606), total=   0.2s\n",
      "[CV] C=1, epsilon=0.01, gamma=0.001 ..................................\n"
     ]
    },
    {
     "name": "stdout",
     "output_type": "stream",
     "text": [
      "[CV]  C=1, epsilon=0.01, gamma=0.001, score=(train=-9899.996, test=-10046.073), total=   0.2s\n",
      "[CV] C=1, epsilon=0.01, gamma=0.001 ..................................\n",
      "[CV]  C=1, epsilon=0.01, gamma=0.001, score=(train=-9124.734, test=-16851.997), total=   0.1s\n",
      "[CV] C=1, epsilon=0.01, gamma=0.001 ..................................\n",
      "[CV]  C=1, epsilon=0.01, gamma=0.001, score=(train=-9031.350, test=-16300.285), total=   0.2s\n",
      "[CV] C=1, epsilon=0.01, gamma=0.001 ..................................\n",
      "[CV]  C=1, epsilon=0.01, gamma=0.001, score=(train=-9645.556, test=-10641.739), total=   0.2s\n",
      "[CV] C=1, epsilon=0.01, gamma=0.001 ..................................\n",
      "[CV]  C=1, epsilon=0.01, gamma=0.001, score=(train=-10216.897, test=-5204.254), total=   0.1s\n",
      "[CV] C=1, epsilon=0.01, gamma=0.001 ..................................\n",
      "[CV]  C=1, epsilon=0.01, gamma=0.001, score=(train=-9251.707, test=-14037.005), total=   0.1s\n",
      "[CV] C=1, epsilon=0.01, gamma=0.001 ..................................\n",
      "[CV]  C=1, epsilon=0.01, gamma=0.001, score=(train=-9966.311, test=-8888.046), total=   0.2s\n",
      "[CV] C=1, epsilon=0.01, gamma=0.001 ..................................\n",
      "[CV]  C=1, epsilon=0.01, gamma=0.001, score=(train=-9805.173, test=-9463.070), total=   0.2s\n",
      "[CV] C=1, epsilon=0.01, gamma=0.001 ..................................\n",
      "[CV]  C=1, epsilon=0.01, gamma=0.001, score=(train=-9111.159, test=-15925.544), total=   0.2s\n",
      "[CV] C=1, epsilon=0.01, gamma=0.001 ..................................\n",
      "[CV]  C=1, epsilon=0.01, gamma=0.001, score=(train=-9774.559, test=-9251.426), total=   0.1s\n",
      "[CV] C=1, epsilon=0.01, gamma=0.001 ..................................\n",
      "[CV]  C=1, epsilon=0.01, gamma=0.001, score=(train=-10181.047, test=-6664.777), total=   0.2s\n",
      "[CV] C=1, epsilon=0.01, gamma=0.01 ...................................\n",
      "[CV]  C=1, epsilon=0.01, gamma=0.01, score=(train=-9669.804, test=-10980.831), total=   0.2s\n",
      "[CV] C=1, epsilon=0.01, gamma=0.01 ...................................\n",
      "[CV]  C=1, epsilon=0.01, gamma=0.01, score=(train=-9887.902, test=-8237.234), total=   0.1s\n",
      "[CV] C=1, epsilon=0.01, gamma=0.01 ...................................\n",
      "[CV]  C=1, epsilon=0.01, gamma=0.01, score=(train=-10065.317, test=-6876.757), total=   0.1s\n",
      "[CV] C=1, epsilon=0.01, gamma=0.01 ...................................\n",
      "[CV]  C=1, epsilon=0.01, gamma=0.01, score=(train=-10166.173, test=-6864.808), total=   0.1s\n",
      "[CV] C=1, epsilon=0.01, gamma=0.01 ...................................\n",
      "[CV]  C=1, epsilon=0.01, gamma=0.01, score=(train=-10169.150, test=-6607.670), total=   0.2s\n",
      "[CV] C=1, epsilon=0.01, gamma=0.01 ...................................\n",
      "[CV]  C=1, epsilon=0.01, gamma=0.01, score=(train=-10280.760, test=-4748.198), total=   0.1s\n",
      "[CV] C=1, epsilon=0.01, gamma=0.01 ...................................\n",
      "[CV]  C=1, epsilon=0.01, gamma=0.01, score=(train=-9677.726, test=-10607.046), total=   0.1s\n",
      "[CV] C=1, epsilon=0.01, gamma=0.01 ...................................\n",
      "[CV]  C=1, epsilon=0.01, gamma=0.01, score=(train=-9595.933, test=-11691.940), total=   0.1s\n",
      "[CV] C=1, epsilon=0.01, gamma=0.01 ...................................\n",
      "[CV]  C=1, epsilon=0.01, gamma=0.01, score=(train=-10122.732, test=-7211.606), total=   0.1s\n",
      "[CV] C=1, epsilon=0.01, gamma=0.01 ...................................\n",
      "[CV]  C=1, epsilon=0.01, gamma=0.01, score=(train=-9899.996, test=-10046.073), total=   0.1s\n",
      "[CV] C=1, epsilon=0.01, gamma=0.01 ...................................\n",
      "[CV]  C=1, epsilon=0.01, gamma=0.01, score=(train=-9124.734, test=-16851.997), total=   0.1s\n",
      "[CV] C=1, epsilon=0.01, gamma=0.01 ...................................\n",
      "[CV]  C=1, epsilon=0.01, gamma=0.01, score=(train=-9031.350, test=-16300.285), total=   0.1s\n",
      "[CV] C=1, epsilon=0.01, gamma=0.01 ...................................\n",
      "[CV]  C=1, epsilon=0.01, gamma=0.01, score=(train=-9645.556, test=-10641.739), total=   0.2s\n",
      "[CV] C=1, epsilon=0.01, gamma=0.01 ...................................\n",
      "[CV]  C=1, epsilon=0.01, gamma=0.01, score=(train=-10216.897, test=-5204.254), total=   0.2s\n",
      "[CV] C=1, epsilon=0.01, gamma=0.01 ...................................\n",
      "[CV]  C=1, epsilon=0.01, gamma=0.01, score=(train=-9251.707, test=-14037.005), total=   0.1s\n",
      "[CV] C=1, epsilon=0.01, gamma=0.01 ...................................\n",
      "[CV]  C=1, epsilon=0.01, gamma=0.01, score=(train=-9966.311, test=-8888.046), total=   0.1s\n",
      "[CV] C=1, epsilon=0.01, gamma=0.01 ...................................\n",
      "[CV]  C=1, epsilon=0.01, gamma=0.01, score=(train=-9805.173, test=-9463.070), total=   0.2s\n",
      "[CV] C=1, epsilon=0.01, gamma=0.01 ...................................\n",
      "[CV]  C=1, epsilon=0.01, gamma=0.01, score=(train=-9111.159, test=-15925.544), total=   0.1s\n",
      "[CV] C=1, epsilon=0.01, gamma=0.01 ...................................\n",
      "[CV]  C=1, epsilon=0.01, gamma=0.01, score=(train=-9774.559, test=-9251.426), total=   0.1s\n",
      "[CV] C=1, epsilon=0.01, gamma=0.01 ...................................\n",
      "[CV]  C=1, epsilon=0.01, gamma=0.01, score=(train=-10181.047, test=-6664.777), total=   0.1s\n",
      "[CV] C=1, epsilon=0.01, gamma=0.1 ....................................\n",
      "[CV]  C=1, epsilon=0.01, gamma=0.1, score=(train=-9669.804, test=-10980.831), total=   0.2s\n",
      "[CV] C=1, epsilon=0.01, gamma=0.1 ....................................\n",
      "[CV]  C=1, epsilon=0.01, gamma=0.1, score=(train=-9887.902, test=-8237.234), total=   0.1s\n",
      "[CV] C=1, epsilon=0.01, gamma=0.1 ....................................\n"
     ]
    }
   ],
   "source": [
    "from sklearn.svm import SVR\n",
    "from sklearn import model_selection\n",
    "from sklearn.model_selection import GridSearchCV\n",
    "from sklearn.model_selection import ShuffleSplit\n",
    "cv1=ShuffleSplit(n_splits=20)\n",
    "\n",
    "# Fit regression model\n",
    "Cs = [1,10,100,1000]\n",
    "gammas = [0.001,0.01,0.1]\n",
    "epsilons=[0.001,0.01,0.1]\n",
    "\n",
    "param_grid = {'C': Cs, 'gamma' : gammas, 'epsilon':epsilons}\n",
    "y_poly=GridSearchCV(SVR(kernel='linear'), param_grid,verbose=20,cv=cv1, scoring='neg_mean_squared_error',return_train_score=True)\n",
    "y_poly.fit(X_train, y_train)\n",
    "y_pred_SVR= y_poly.predict(X_val)\n",
    "\n",
    "print('Mean test score: {}'.format(y_poly.cv_results_['mean_test_score']))\n",
    "print('Mean Validation score: {}'.format(y_poly.cv_results_['mean_train_score']))"
   ]
  },
  {
   "cell_type": "code",
   "execution_count": null,
   "metadata": {
    "scrolled": true
   },
   "outputs": [],
   "source": [
    "from sklearn.externals import joblib\n",
    "filename='linearSVR_AP.pkl'\n",
    "joblib.dump(y_poly.best_estimator_,filename,compress=1)\n",
    "print(str(y_poly.cv_results_['mean_train_score'])+'\\n',file=open('linearSVR_AP.text',\"a\"))\n",
    "print(str(y_poly.cv_results_['mean_test_score'])+'\\n',file=open('linearSVR_AP.text',\"a\"))\n",
    "print(str(y_poly.best_estimator_)+'\\n',file=open('linearSVR_AP.text',\"a\"))\n",
    "y_preda = y_poly.best_estimator_.predict(features)\n",
    "y_predv = y_poly.best_estimator_.predict(X_val)\n",
    "y_predt = y_poly.best_estimator_.predict(X_test)\n",
    "dataseta = pd.DataFrame({'target': target, 'pred': y_preda}, columns=['target','pred'])\n",
    "datasetv = pd.DataFrame({'target': y_val, 'pred': y_predv}, columns=['target','pred'])\n",
    "datasett = pd.DataFrame({'target': y_test, 'pred': y_predt}, columns=['target','pred'])\n",
    "dataseta.to_csv('lin_train_results.csv', sep=',', encoding='utf-8')\n",
    "datasett.to_csv('lin_test_results.csv', sep=',', encoding='utf-8')\n",
    "datasetv.to_csv('lin_val_results.csv', sep=',', encoding='utf-8')"
   ]
  },
  {
   "cell_type": "markdown",
   "metadata": {},
   "source": [
    "## Data Analysis"
   ]
  },
  {
   "cell_type": "code",
   "execution_count": null,
   "metadata": {},
   "outputs": [],
   "source": [
    "aresults= pd.read_csv('lin_train_results.csv')\n",
    "vresults= pd.read_csv('lin_val_results.csv')\n",
    "ma=len(aresults['target'].tolist())\n",
    "mv=len(vresults['target'].tolist())\n",
    "aresults['error']=\"\"\n",
    "vresults['error']=\"\"\n",
    "for i in range(0,ma):\n",
    "    if aresults['target'][i]>0.1 or aresults['target'][i] < -0.1:\n",
    "        aresults['error'][i]=abs((abs(aresults['target'][i]-aresults['pred'][i]))/(np.std(data[prop])))\n",
    "    else:\n",
    "        aresults['error'][i]=abs((abs(aresults['target'][i]-aresults['pred'][i]))/(aresults['target'][i]))\n",
    "        \n",
    "        \n",
    "for i in range(0,mv):\n",
    "    if vresults['target'][i]>0.1 or vresults['target'][i] < -0.1:\n",
    "        vresults['error'][i]=abs((abs(vresults['target'][i]-vresults['pred'][i]))/(np.std(data[prop])))\n",
    "    else:\n",
    "        vresults['error'][i]=abs((abs(vresults['target'][i]-vresults['pred'][i]))/(vresults['target'][i]))\n",
    "        \n",
    "print('Overall Error')\n",
    "print(aresults['error'].describe())\n",
    "print('Validation Error')\n",
    "print(vresults['error'].describe())"
   ]
  },
  {
   "cell_type": "code",
   "execution_count": null,
   "metadata": {},
   "outputs": [],
   "source": [
    "import numpy as np\n",
    "import matplotlib.pyplot as plt\n",
    "\n",
    "# Create data\n",
    "x = aresults['target'].to_numpy()\n",
    "y = aresults['error'].to_numpy()*100\n",
    "# Plot\n",
    "plt.scatter(x, y, alpha=0.15)\n",
    "plt.title('Error as function of target for linear '+prop +' model')\n",
    "plt.xlabel(prop+' Value')\n",
    "plt.ylabel('error %')\n",
    "plt.savefig(prop+'Linear.png')\n",
    "plt.show()"
   ]
  },
  {
   "cell_type": "code",
   "execution_count": null,
   "metadata": {},
   "outputs": [],
   "source": [
    "fnamea=str(str(prop)+\"linearALL.text\")\n",
    "print(\"The percentage of data below 1% of error is {:.2f}%\".format(100*len(aresults[aresults['error'] < 0.01])/len(aresults['target'])),file=open(fnamea,\"a\"))\n",
    "print(\"The percentage of data below 5% of error is {:.2f}%\".format(100*len(aresults[aresults['error'] < 0.05])/len(aresults['target'])),file=open(fnamea,\"a\"))\n",
    "print(\"The percentage of data below 10% of error is {:.2f}%\".format(100*len(aresults[aresults['error'] < 0.1])/len(aresults['target'])),file=open(fnamea,\"a\"))\n",
    "print(\"The percentage of data below 20% of error is {:.2f}%\".format(100*len(aresults[aresults['error'] < 0.2])/len(aresults['target'])), file=open(fnamea,\"a\"))\n",
    "\n",
    "\n",
    "fnamev=str(str(prop)+'linearv.text')\n",
    "print(\"The percentage of data below 1% of error is {:.2f}%\".format(100*len(vresults[vresults['error'] < 0.01])/len(vresults['target'])),file=open(fnamev,\"a\"))\n",
    "print(\"The percentage of data below 5% of error is {:.2f}%\".format(100*len(vresults[vresults['error'] < 0.05])/len(vresults['target'])),file=open(fnamev,\"a\"))\n",
    "print(\"The percentage of data below 10% of error is {:.2f}%\".format(100*len(vresults[vresults['error'] < 0.1])/len(vresults['target'])),file=open(fnamev,\"a\"))\n",
    "print(\"The percentage of data below 20% of error is {:.2f}%\".format(100*len(vresults[vresults['error'] < 0.2])/len(vresults['target'])), file=open(fnamev,\"a\"))\n"
   ]
  },
  {
   "cell_type": "code",
   "execution_count": null,
   "metadata": {},
   "outputs": [],
   "source": []
  },
  {
   "cell_type": "code",
   "execution_count": null,
   "metadata": {},
   "outputs": [],
   "source": []
  }
 ],
 "metadata": {
  "kernelspec": {
   "display_name": "Python 3",
   "language": "python",
   "name": "python3"
  },
  "language_info": {
   "codemirror_mode": {
    "name": "ipython",
    "version": 3
   },
   "file_extension": ".py",
   "mimetype": "text/x-python",
   "name": "python",
   "nbconvert_exporter": "python",
   "pygments_lexer": "ipython3",
   "version": "3.7.3"
  }
 },
 "nbformat": 4,
 "nbformat_minor": 1
}
