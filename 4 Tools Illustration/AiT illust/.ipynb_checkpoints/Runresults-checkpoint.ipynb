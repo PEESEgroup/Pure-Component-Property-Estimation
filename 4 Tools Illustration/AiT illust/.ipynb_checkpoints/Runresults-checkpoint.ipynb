{
 "cells": [
  {
   "cell_type": "markdown",
   "metadata": {},
   "source": [
    "## Import Libraries"
   ]
  },
  {
   "cell_type": "code",
   "execution_count": 21,
   "metadata": {},
   "outputs": [
    {
     "name": "stdout",
     "output_type": "stream",
     "text": [
      "The AiT dataset has 570 data points with 425 features each.\n"
     ]
    },
    {
     "name": "stderr",
     "output_type": "stream",
     "text": [
      "C:\\Users\\asa279\\AppData\\Local\\Continuum\\anaconda3\\lib\\site-packages\\ipykernel_launcher.py:37: SettingWithCopyWarning: \n",
      "A value is trying to be set on a copy of a slice from a DataFrame\n",
      "\n",
      "See the caveats in the documentation: https://pandas.pydata.org/pandas-docs/stable/user_guide/indexing.html#returning-a-view-versus-a-copy\n",
      "C:\\Users\\asa279\\AppData\\Local\\Continuum\\anaconda3\\lib\\site-packages\\ipykernel_launcher.py:44: SettingWithCopyWarning: \n",
      "A value is trying to be set on a copy of a slice from a DataFrame\n",
      "\n",
      "See the caveats in the documentation: https://pandas.pydata.org/pandas-docs/stable/user_guide/indexing.html#returning-a-view-versus-a-copy\n",
      "C:\\Users\\asa279\\AppData\\Local\\Continuum\\anaconda3\\lib\\site-packages\\ipykernel_launcher.py:72: SettingWithCopyWarning: \n",
      "A value is trying to be set on a copy of a slice from a DataFrame\n",
      "\n",
      "See the caveats in the documentation: https://pandas.pydata.org/pandas-docs/stable/user_guide/indexing.html#returning-a-view-versus-a-copy\n"
     ]
    },
    {
     "name": "stdout",
     "output_type": "stream",
     "text": [
      "Overall Error\n",
      "count     570.000000\n",
      "unique    556.000000\n",
      "top         0.000003\n",
      "freq        3.000000\n",
      "Name: error, dtype: float64\n",
      "Validation Error\n",
      "count     28.000000\n",
      "unique    28.000000\n",
      "top        0.000001\n",
      "freq       1.000000\n",
      "Name: error, dtype: float64\n"
     ]
    },
    {
     "data": {
      "image/png": "[encoded data removed]",
      "text/plain": [
       "<Figure size 432x288 with 1 Axes>"
      ]
     },
     "metadata": {
      "needs_background": "light"
     },
     "output_type": "display_data"
    }
   ],
   "source": [
    "prop='AiT'\n",
    "import numpy as np\n",
    "import pandas as pd\n",
    "from IPython.display import display \n",
    "import matplotlib.pyplot as plt\n",
    "import numpy as np\n",
    "import pickle\n",
    "filename = 'GP_model.sav'\n",
    "%matplotlib inline\n",
    "data= pd.read_excel(prop+'_gc.xlsx')\n",
    "#Print features\n",
    "from sklearn.model_selection import train_test_split\n",
    "from sklearn.model_selection import StratifiedKFold\n",
    "target = data[prop]\n",
    "features = data.drop(prop, axis = 1)\n",
    "print(\"The \"+prop+\" dataset has {} data points with {} features each.\".format(*data.shape))\n",
    "X_train1, X_test, y_train1, y_test = train_test_split(features, target,random_state=19, test_size=0.05)\n",
    "X_train, X_val, y_train, y_val = train_test_split(X_train1, y_train1,random_state=19, test_size=0.05)\n",
    "features = data.drop(prop, axis = 1)\n",
    "model = pickle.load(open(filename, 'rb'))\n",
    "y_preda, stda = model.predict(features, return_std=True)\n",
    "y_pred, std = model.predict(X_val, return_std=True)\n",
    "dataset = pd.DataFrame({'target': target, 'pred': y_preda, 'stdev': stda}, columns=['target','pred', 'stdev'])\n",
    "dataset1 = pd.DataFrame({'target': y_val, 'pred': y_pred, 'stdev': std}, columns=['target','pred', 'stdev'])\n",
    "dataset.to_csv('results_RBF.csv', sep=',', encoding='utf-8')\n",
    "dataset1.to_csv('valresults_RBF.csv', sep=',', encoding='utf-8')\n",
    "\n",
    "\n",
    "aresults= pd.read_csv('results_RBF.csv')\n",
    "vresults= pd.read_csv('valresults_RBF.csv')\n",
    "ma=len(aresults['target'].tolist())\n",
    "mv=len(vresults['target'].tolist())\n",
    "aresults['error']=\"\"\n",
    "vresults['error']=\"\"\n",
    "for i in range(0,ma):\n",
    "    if aresults['target'][i]>0.1 and aresults['target'][i] > -0.1:\n",
    "        aresults['error'][i]=abs((abs(aresults['target'][i]-aresults['pred'][i]))/(np.std(data[prop])))\n",
    "    else:\n",
    "        aresults['error'][i]=abs((abs(aresults['target'][i]-aresults['pred'][i]))/(aresults['target'][i]))\n",
    "        \n",
    "        \n",
    "for i in range(0,mv):\n",
    "    if aresults['target'][i]>0.1 and aresults['target'][i] > -0.1:\n",
    "        vresults['error'][i]=abs((abs(vresults['target'][i]-vresults['pred'][i]))/(np.std(data[prop])))\n",
    "    else:\n",
    "        vresults['error'][i]=abs((abs(vresults['target'][i]-vresults['pred'][i]))/(vresults['target'][i]))\n",
    "        \n",
    "print('Overall Error')\n",
    "print(aresults['error'].describe())\n",
    "print('Validation Error')\n",
    "print(vresults['error'].describe())\n",
    "\n",
    "fnamea=str(str(prop)+\"nlinALL.text\")\n",
    "print(\"The percentage of data below 1% of error is {:.2f}%\".format(100*len(aresults[aresults['error'] < 0.01])/len(aresults['target'])),file=open(fnamea,\"a\"))\n",
    "print(\"The percentage of data below 5% of error is {:.2f}%\".format(100*len(aresults[aresults['error'] < 0.05])/len(aresults['target'])),file=open(fnamea,\"a\"))\n",
    "print(\"The percentage of data below 10% of error is {:.2f}%\".format(100*len(aresults[aresults['error'] < 0.1])/len(aresults['target'])),file=open(fnamea,\"a\"))\n",
    "print(\"The percentage of data below 20% of error is {:.2f}%\".format(100*len(aresults[aresults['error'] < 0.2])/len(aresults['target'])), file=open(fnamea,\"a\"))\n",
    "\n",
    "\n",
    "fnamev=str(str(prop)+'nlinv.text')\n",
    "print(\"The percentage of data below 1% of error is {:.2f}%\".format(100*len(vresults[vresults['error'] < 0.01])/len(vresults['target'])),file=open(fnamev,\"a\"))\n",
    "print(\"The percentage of data below 5% of error is {:.2f}%\".format(100*len(vresults[vresults['error'] < 0.05])/len(vresults['target'])),file=open(fnamev,\"a\"))\n",
    "print(\"The percentage of data below 10% of error is {:.2f}%\".format(100*len(vresults[vresults['error'] < 0.1])/len(vresults['target'])),file=open(fnamev,\"a\"))\n",
    "print(\"The percentage of data below 20% of error is {:.2f}%\".format(100*len(vresults[vresults['error'] < 0.2])/len(vresults['target'])), file=open(fnamev,\"a\"))\n",
    "\n",
    "import numpy as np\n",
    "aresults= pd.read_csv('results_RBF.csv')\n",
    "ma=len(aresults['target'].tolist())\n",
    "aresults['error']=\"\"\n",
    "for i in range(0,ma):\n",
    "    if aresults['target'][i]>0.1 and aresults['target'][i] > -0.1:\n",
    "        aresults['error'][i]=(aresults['target'][i]-aresults['pred'][i])/(np.std(data[prop]))\n",
    "    else:\n",
    "        aresults['error'][i]=(aresults['target'][i]-aresults['pred'][i])/(aresults['target'][i])\n",
    "        \n",
    "aresults=aresults[~aresults.isin([np.nan, np.inf, -np.inf]).any(1)]\n",
    "\n",
    "import seaborn as sns, numpy as np\n",
    "x = pd.Series(aresults['error']*100, name=\"Error %\")\n",
    "ax = sns.distplot(x,kde=True,hist=False, color='k',kde_kws={'bw':10})    \n",
    "plt.xlim(-100,100)\n",
    "plt.ylabel('Density')\n",
    "plt.savefig('dist.jpg',dpi=250)\n",
    "\n",
    "\n",
    "\n",
    "dataa= pd.read_excel('surfactants.xlsx')\n",
    "dataa.head()\n",
    "dataa=dataa.drop(['Smiles'], axis=1)\n",
    "y_pred, std = model.predict(dataa.values, return_std=True)\n",
    "dataset = pd.DataFrame({'pred': y_pred, 'stdev': std}, columns=['pred', 'stdev'])\n",
    "dataset.to_csv('surfact_res.csv', sep=',', encoding='utf-8')\n"
   ]
  },
  {
   "cell_type": "code",
   "execution_count": null,
   "metadata": {},
   "outputs": [],
   "source": []
  }
 ],
 "metadata": {
  "kernelspec": {
   "display_name": "Python 3",
   "language": "python",
   "name": "python3"
  },
  "language_info": {
   "codemirror_mode": {
    "name": "ipython",
    "version": 3
   },
   "file_extension": ".py",
   "mimetype": "text/x-python",
   "name": "python",
   "nbconvert_exporter": "python",
   "pygments_lexer": "ipython3",
   "version": "3.7.3"
  }
 },
 "nbformat": 4,
 "nbformat_minor": 1
}
