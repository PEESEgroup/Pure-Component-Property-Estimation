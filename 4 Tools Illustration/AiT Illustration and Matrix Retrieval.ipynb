{
 "cells": [
  {
   "cell_type": "markdown",
   "metadata": {},
   "source": [
    "## Illustration for Estimating Auto-ignition Temperature "
   ]
  },
  {
   "cell_type": "code",
   "execution_count": 1,
   "metadata": {},
   "outputs": [
    {
     "name": "stdout",
     "output_type": "stream",
     "text": [
      "The predicted value of the Auto-iginition temperature and its uncertainity of 1,2-PROPYLENE-GLYCOL are given as follows: 694.00 +/- 0.411 K\n"
     ]
    },
    {
     "name": "stderr",
     "output_type": "stream",
     "text": [
      "C:\\Users\\asa279\\Anaconda3\\lib\\site-packages\\sklearn\\base.py:310: UserWarning: Trying to unpickle estimator GaussianProcessRegressor from version 0.23.1 when using version 0.24.1. This might lead to breaking code or invalid results. Use at your own risk.\n",
      "  warnings.warn(\n"
     ]
    }
   ],
   "source": [
    "#List of required libraries\n",
    "import numpy as np\n",
    "import pickle\n",
    "\n",
    "#make sure the same file corresponds to the same properties by checking the folder\n",
    "filename = 'GP_model.sav'\n",
    "\n",
    "#Load model\n",
    "model = pickle.load(open(filename, 'rb'))\n",
    "\n",
    "#Group contribution representation of  1,2-PROPYLENE-GLYCOL\n",
    "#SMILES: OCC(O)C\n",
    "molecule = np.array([1, 1, 1, 0, 0, 0, 0, 0, 0, 0, 0, 0, 0, 0, 0, 0, 0, 0, 0, 0, 0, 0,\n",
    "       0, 0, 0, 0, 0, 0, 2, 0, 0, 0, 0, 0, 0, 0, 0, 0, 0, 0, 0, 0, 0, 0,\n",
    "       0, 0, 0, 0, 0, 0, 0, 0, 0, 0, 0, 0, 0, 0, 0, 0, 0, 0, 0, 0, 0, 0,\n",
    "       0, 0, 0, 0, 0, 0, 0, 0, 0, 0, 0, 0, 0, 0, 0, 0, 0, 0, 0, 0, 0, 0,\n",
    "       0, 0, 0, 0, 0, 0, 0, 0, 0, 0, 0, 0, 0, 0, 0, 0, 0, 0, 0, 0, 0, 0,\n",
    "       0, 0, 0, 0, 0, 0, 0, 0, 0, 0, 0, 0, 0, 0, 0, 0, 0, 0, 0, 0, 0, 0,\n",
    "       0, 0, 0, 0, 0, 0, 0, 0, 0, 0, 0, 0, 0, 0, 0, 0, 0, 0, 0, 0, 0, 0,\n",
    "       0, 0, 0, 0, 0, 0, 0, 0, 0, 0, 0, 0, 0, 0, 0, 0, 0, 0, 0, 0, 0, 0,\n",
    "       0, 0, 0, 0, 0, 0, 0, 0, 0, 0, 0, 0, 0, 0, 0, 0, 0, 0, 0, 0, 0, 0,\n",
    "       0, 0, 0, 0, 0, 0, 0, 0, 0, 0, 0, 0, 0, 0, 0, 0, 0, 0, 0, 0, 0, 0,\n",
    "       0, 0, 0, 0, 0, 0, 0, 0, 0, 0, 0, 0, 0, 0, 0, 0, 0, 0, 0, 0, 1, 0,\n",
    "       0, 0, 0, 0, 0, 0, 0, 0, 0, 0, 0, 0, 0, 0, 0, 0, 0, 0, 0, 0, 0, 0,\n",
    "       0, 0, 0, 0, 0, 0, 0, 0, 0, 0, 0, 0, 0, 0, 0, 0, 0, 0, 0, 0, 0, 0,\n",
    "       0, 0, 0, 0, 0, 0, 0, 0, 0, 0, 0, 0, 0, 0, 0, 0, 0, 0, 0, 0, 0, 0,\n",
    "       0, 0, 0, 0, 0, 0, 0, 0, 0, 0, 0, 0, 0, 0, 0, 0, 0, 0, 0, 0, 0, 0,\n",
    "       0, 0, 0, 0, 0, 0, 0, 0, 0, 0, 0, 0, 0, 0, 0, 0, 0, 0, 0, 0, 0, 0,\n",
    "       0, 0, 0, 0, 0, 0, 0, 0, 0, 0, 0, 0, 0, 0, 0, 0, 0, 0, 0, 0, 0, 0,\n",
    "       0, 0, 0, 0, 0, 0, 0, 0, 0, 0, 0, 0, 0, 0, 0, 0, 0, 0, 0, 0, 0, 0,\n",
    "       0, 0, 0, 0, 0, 0, 0, 0, 0, 0, 0, 0, 0, 0, 0, 0, 0, 0, 0, 0, 0, 0,\n",
    "       0, 0, 0, 0, 0, 0])\n",
    "\n",
    "\n",
    "y_pred, std = model.predict(molecule.reshape(1, -1), return_std=True)\n",
    "print('The predicted value of the Auto-iginition temperature and its uncertainity of 1,2-PROPYLENE-GLYCOL are given as follows: {0:1.2f} +/- {1:1.3f} K'.format(y_pred[0],std[0]))"
   ]
  },
  {
   "cell_type": "markdown",
   "metadata": {},
   "source": [
    "### The experimental value of the Auto-ignition temperature of 1,2-Propylene-Glycol is 694.00 K"
   ]
  },
  {
   "cell_type": "markdown",
   "metadata": {},
   "source": [
    "# Illustration for Retrieving Metrics from .sav Files"
   ]
  },
  {
   "cell_type": "code",
   "execution_count": 2,
   "metadata": {},
   "outputs": [
    {
     "data": {
      "text/plain": [
       "{'k1': RBF(length_scale=0.00144),\n",
       " 'k2': RBF(length_scale=7.16),\n",
       " 'k1__length_scale': 0.0014428877970719756,\n",
       " 'k1__length_scale_bounds': (1e-05, 100000.0),\n",
       " 'k2__length_scale': 7.157897141335546,\n",
       " 'k2__length_scale_bounds': (1e-05, 100000.0)}"
      ]
     },
     "execution_count": 2,
     "metadata": {},
     "output_type": "execute_result"
    }
   ],
   "source": [
    "import numpy as np\n",
    "import pandas as pd\n",
    "import numpy as np\n",
    "\n",
    "# Retrieve the model parameters\n",
    "model.kernel_.get_params()"
   ]
  },
  {
   "cell_type": "markdown",
   "metadata": {},
   "source": [
    "## Get model parameters"
   ]
  },
  {
   "cell_type": "code",
   "execution_count": 3,
   "metadata": {},
   "outputs": [
    {
     "data": {
      "text/plain": [
       "(541, 424)"
      ]
     },
     "execution_count": 3,
     "metadata": {},
     "output_type": "execute_result"
    }
   ],
   "source": [
    "# Check the training data (groups) X_train\n",
    "model.X_train_.shape"
   ]
  },
  {
   "cell_type": "code",
   "execution_count": 4,
   "metadata": {},
   "outputs": [
    {
     "data": {
      "text/plain": [
       "(541,)"
      ]
     },
     "execution_count": 4,
     "metadata": {},
     "output_type": "execute_result"
    }
   ],
   "source": [
    "#check the y (property) values\n",
    "model.y_train_.shape"
   ]
  },
  {
   "cell_type": "code",
   "execution_count": 5,
   "metadata": {},
   "outputs": [
    {
     "data": {
      "text/plain": [
       "(541,)"
      ]
     },
     "execution_count": 5,
     "metadata": {},
     "output_type": "execute_result"
    }
   ],
   "source": [
    "# The y values are normalized so we can retrieve them from the dataset \n",
    "ytrain= pd.read_csv('ytrain.csv')\n",
    "y=ytrain.to_numpy()[:,1]\n",
    "y.reshape(1,-1)\n",
    "y.shape"
   ]
  },
  {
   "cell_type": "code",
   "execution_count": 6,
   "metadata": {},
   "outputs": [
    {
     "data": {
      "text/plain": [
       "{'k1': RBF(length_scale=0.00144),\n",
       " 'k2': RBF(length_scale=7.16),\n",
       " 'k1__length_scale': 0.0014428877970719756,\n",
       " 'k1__length_scale_bounds': (1e-05, 100000.0),\n",
       " 'k2__length_scale': 7.157897141335546,\n",
       " 'k2__length_scale_bounds': (1e-05, 100000.0)}"
      ]
     },
     "execution_count": 6,
     "metadata": {},
     "output_type": "execute_result"
    }
   ],
   "source": [
    "# Now lets get the parameters from the model\n",
    "dict_kernel=model.kernel_.get_params()\n",
    "dict_kernel"
   ]
  },
  {
   "cell_type": "code",
   "execution_count": 7,
   "metadata": {},
   "outputs": [],
   "source": [
    "# Let's get the lengthscale\n",
    "l1=dict_kernel['k1__length_scale']\n",
    "l2=dict_kernel['k2__length_scale']"
   ]
  },
  {
   "cell_type": "code",
   "execution_count": 8,
   "metadata": {},
   "outputs": [
    {
     "data": {
      "text/plain": [
       "{'alpha': 1e-05,\n",
       " 'copy_X_train': True,\n",
       " 'kernel__k1': RBF(length_scale=0.05),\n",
       " 'kernel__k2': RBF(length_scale=0.1),\n",
       " 'kernel__k1__length_scale': 0.05,\n",
       " 'kernel__k1__length_scale_bounds': (1e-05, 100000.0),\n",
       " 'kernel__k2__length_scale': 0.1,\n",
       " 'kernel__k2__length_scale_bounds': (1e-05, 100000.0),\n",
       " 'kernel': RBF(length_scale=0.05) + RBF(length_scale=0.1),\n",
       " 'n_restarts_optimizer': 20,\n",
       " 'normalize_y': True,\n",
       " 'optimizer': 'fmin_l_bfgs_b',\n",
       " 'random_state': 19}"
      ]
     },
     "execution_count": 8,
     "metadata": {},
     "output_type": "execute_result"
    }
   ],
   "source": [
    "# We also need sigma_e from the model\n",
    "dict_model=model.get_params()\n",
    "dict_model"
   ]
  },
  {
   "cell_type": "code",
   "execution_count": 9,
   "metadata": {},
   "outputs": [],
   "source": [
    "sigma_e =dict_model['alpha']"
   ]
  },
  {
   "cell_type": "markdown",
   "metadata": {},
   "source": [
    "## Matrix Computation "
   ]
  },
  {
   "cell_type": "code",
   "execution_count": 10,
   "metadata": {},
   "outputs": [],
   "source": [
    "# Define the RBF function\n",
    "def kernel_function(x, y, l1=l1, l2=l2):\n",
    "    \"\"\"Define RBF kernel function.\"\"\"\n",
    "    kernel =(np.exp(- (np.linalg.norm(x - y)**2) / (2 * l1**2))* np.exp(- (np.linalg.norm(x - y)**2) / (2 * l2**2)))\n",
    "    return kernel"
   ]
  },
  {
   "cell_type": "code",
   "execution_count": 11,
   "metadata": {},
   "outputs": [],
   "source": [
    "#Now let's compute the K,W,U matrices\n",
    "import itertools\n",
    "\n",
    "# reshape molecule array\n",
    "molecule=molecule.reshape(424,1)\n",
    "\n",
    "\n",
    "# U matrix\n",
    "n = model.X_train_.shape[0]\n",
    "U = [kernel_function(i, j,  l1=l1, l2=l2) for (i, j) in itertools.product(model.X_train_, model.X_train_)]\n",
    "U = np.array(U).reshape(n, n)\n",
    "U=np.linalg.inv(U + (sigma_e**2)*np.eye(n))\n",
    "\n",
    "# W matrix\n",
    "W = [kernel_function(i, j,  l1=l1, l2=l2) for (i, j) in itertools.product(model.X_train_,molecule.T)]\n",
    "W = np.array(W).reshape(n, 1)\n",
    "\n",
    "# K11 matrix\n",
    "K_11= [kernel_function(i, j, l1=l1, l2=l2) for (i, j) in itertools.product(molecule.T, molecule.T)]\n",
    "K_11= np.array(K_11).reshape(1, 1)\n",
    "\n",
    "# KM1 matrix\n",
    "K_M1= [kernel_function(i, j,l1=l1, l2=l2) for (i, j) in itertools.product(model.X_train_, molecule.T)]\n",
    "K_M1= np.array(K_M1).reshape(n, 1)\n",
    "\n",
    "# K1M matrix\n",
    "K_1M= [kernel_function(i, j, l1=l1, l2=l2) for (i, j) in itertools.product(molecule.T, model.X_train_)]\n",
    "K_1M= np.array(K_1M).reshape(1, n)"
   ]
  },
  {
   "cell_type": "code",
   "execution_count": 12,
   "metadata": {},
   "outputs": [
    {
     "name": "stdout",
     "output_type": "stream",
     "text": [
      "U shape is (541, 541)\n",
      "W shape is (541, 1)\n",
      "K11 shape is (1, 1)\n",
      "KM1 shape is (541, 1)\n",
      "K1M shape is (1, 541)\n"
     ]
    }
   ],
   "source": [
    "print('U shape is',U.shape )\n",
    "print('W shape is',W.shape )\n",
    "print('K11 shape is',K_11.shape )\n",
    "print('KM1 shape is',K_M1.shape )\n",
    "print('K1M shape is',K_1M.shape )\n"
   ]
  },
  {
   "cell_type": "markdown",
   "metadata": {},
   "source": [
    "## Varify Results with the Prediction"
   ]
  },
  {
   "cell_type": "code",
   "execution_count": 13,
   "metadata": {},
   "outputs": [
    {
     "name": "stdout",
     "output_type": "stream",
     "text": [
      "[693.99969611]\n"
     ]
    }
   ],
   "source": [
    "#Verify with equation 6 in the manuscript:\n",
    "ypred=np.dot(K_1M,W)\n",
    "print(y_pred)"
   ]
  },
  {
   "cell_type": "markdown",
   "metadata": {},
   "source": [
    "### We notice that it is the same prediction as above with very slight difference due to different normalization and reduction methods.\n",
    "\n",
    "To store information, the model in the .sav model uses the Lower-triangular Cholesky decomposition of the kernel in X_train as shown bellow:"
   ]
  },
  {
   "cell_type": "code",
   "execution_count": 14,
   "metadata": {},
   "outputs": [
    {
     "data": {
      "text/plain": [
       "(541, 541)"
      ]
     },
     "execution_count": 14,
     "metadata": {},
     "output_type": "execute_result"
    }
   ],
   "source": [
    "model.L_.shape"
   ]
  }
 ],
 "metadata": {
  "kernelspec": {
   "display_name": "Python 3",
   "language": "python",
   "name": "python3"
  },
  "language_info": {
   "codemirror_mode": {
    "name": "ipython",
    "version": 3
   },
   "file_extension": ".py",
   "mimetype": "text/x-python",
   "name": "python",
   "nbconvert_exporter": "python",
   "pygments_lexer": "ipython3",
   "version": "3.8.8"
  }
 },
 "nbformat": 4,
 "nbformat_minor": 1
}
