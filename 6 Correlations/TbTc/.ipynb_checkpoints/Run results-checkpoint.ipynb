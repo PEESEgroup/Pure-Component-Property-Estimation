{
 "cells": [
  {
   "cell_type": "markdown",
   "metadata": {},
   "source": [
    "## Import Libraries"
   ]
  },
  {
   "cell_type": "code",
   "execution_count": 7,
   "metadata": {},
   "outputs": [],
   "source": [
    "import numpy as np\n",
    "import pandas as pd\n",
    "from IPython.display import display \n",
    "import matplotlib.pyplot as plt\n",
    "import numpy as np\n",
    "import pickle\n",
    "filename = 'GP_model.sav'\n",
    "model = pickle.load(open(filename, 'rb'))\n",
    "data= pd.read_excel('intersect.xlsx')\n",
    "Smiles=data['Smiles']\n",
    "Y=data['Tc']\n",
    "X=data['Tb'].values\n",
    "data=data.drop(['Smiles'], axis=1)\n",
    "data=data.drop(['Tc'], axis=1)\n",
    "y_pred, std = model.predict(X.reshape(-1,1), return_std=True)\n",
    "dataset = pd.DataFrame({'SMILES':Smiles,'Experimental Pc':Y,'Prediction Pc': y_pred, 'stdev': std}, columns=['SMILES','Experimental','Prediction', 'stdev'])\n",
    "dataset=dataset.join(data,how=\"outer\")\n",
    "dataset.to_csv('Pc-Tc_results_GC.csv', sep=',', encoding='utf-8')\n"
   ]
  },
  {
   "cell_type": "code",
   "execution_count": null,
   "metadata": {},
   "outputs": [],
   "source": []
  }
 ],
 "metadata": {
  "kernelspec": {
   "display_name": "Python 3",
   "language": "python",
   "name": "python3"
  },
  "language_info": {
   "codemirror_mode": {
    "name": "ipython",
    "version": 3
   },
   "file_extension": ".py",
   "mimetype": "text/x-python",
   "name": "python",
   "nbconvert_exporter": "python",
   "pygments_lexer": "ipython3",
   "version": "3.7.3"
  }
 },
 "nbformat": 4,
 "nbformat_minor": 1
}
